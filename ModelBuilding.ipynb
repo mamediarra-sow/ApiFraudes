{
  "cells": [
    {
      "cell_type": "markdown",
      "metadata": {
        "id": "TsLOhHYGOHcY"
      },
      "source": [
        "# Partie1 : Prétraitement de données"
      ]
    },
    {
      "cell_type": "code",
      "execution_count": null,
      "metadata": {
        "id": "kLCSNT0bk2aU"
      },
      "outputs": [],
      "source": [
        "#Importer les bibliothèques necessaires\n",
        "import numpy as np\n",
        "import pandas as pd\n",
        "from google.colab import drive"
      ]
    },
    {
      "cell_type": "markdown",
      "metadata": {
        "id": "qYDzPejI74oc"
      },
      "source": []
    },
    {
      "cell_type": "code",
      "execution_count": null,
      "metadata": {
        "colab": {
          "base_uri": "https://localhost:8080/"
        },
        "id": "EK-GGcN8FF1E",
        "outputId": "3d53e779-46e6-4531-840a-6665f0e37ae9"
      },
      "outputs": [
        {
          "output_type": "stream",
          "name": "stdout",
          "text": [
            "Mounted at /content/gdrive\n",
            "/content/gdrive/MyDrive/datasets\n"
          ]
        },
        {
          "output_type": "stream",
          "name": "stderr",
          "text": [
            "/usr/local/lib/python3.7/dist-packages/IPython/core/interactiveshell.py:3326: DtypeWarning: Columns (8,11,12) have mixed types.Specify dtype option on import or set low_memory=False.\n",
            "  exec(code_obj, self.user_global_ns, self.user_ns)\n"
          ]
        }
      ],
      "source": [
        "#Se connecter au drive et récupérer les données\n",
        "drive.mount('/content/gdrive')\n",
        "%cd gdrive/MyDrive/datasets\n",
        "file = pd.read_csv(\"dataset_trx.csv\",sep=\",\")\n",
        "dataset_brute = pd.DataFrame(file)"
      ]
    },
    {
      "cell_type": "code",
      "execution_count": null,
      "metadata": {
        "colab": {
          "base_uri": "https://localhost:8080/"
        },
        "id": "0BCxHcCOzavz",
        "outputId": "3e6e5b33-1039-41aa-bbf3-998a345dc494"
      },
      "outputs": [
        {
          "output_type": "execute_result",
          "data": {
            "text/plain": [
              "Unnamed: 0                          0\n",
              "id                                  0\n",
              "codeNetwork                       173\n",
              "codePDA                             0\n",
              "codeSalePoint                       0\n",
              "codeService                         0\n",
              "commission                          0\n",
              "date                                0\n",
              "destinataire                        3\n",
              "frais                             173\n",
              "numTransFromPartenaire         293789\n",
              "loginAgent                          0\n",
              "montant                             7\n",
              "type                              116\n",
              "paymentMode                    216667\n",
              "tag                                 0\n",
              "token                               0\n",
              "sms                              2535\n",
              "code_proxy                     294781\n",
              "categorie                      151565\n",
              "actionDone                       5499\n",
              "userDoneAction                   5499\n",
              "partner_dist_transaction_id    222340\n",
              "call_back_url                  225625\n",
              "network_groupe_code                 0\n",
              "spareOp1                          173\n",
              "spareOp2                       296999\n",
              "spareOp3                       291859\n",
              "spareOp4                          173\n",
              "spareOp5                       297019\n",
              "sent_date                      218075\n",
              "statut_partenaire              297032\n",
              "date_traitement                227420\n",
              "base_calcul_comm               296826\n",
              "cod_producto                   297037\n",
              "cod_usuario                    297037\n",
              "codeAgence                     297037\n",
              "codeClientPamecas              297037\n",
              "codeEmpresaPamecas             297037\n",
              "numCompteClientPamecas         297037\n",
              "latitude                       161108\n",
              "longitude                      161108\n",
              "baseCalculCommission           297037\n",
              "callBackURL                    297037\n",
              "codeProxy                      297037\n",
              "dateTraitement                 297037\n",
              "idFromPartenaire               297037\n",
              "operationType                  297037\n",
              "partnerDistTransactionId       297037\n",
              "sentDate                       297037\n",
              "statutPartenaire               297037\n",
              "dtype: int64"
            ]
          },
          "metadata": {},
          "execution_count": 3
        }
      ],
      "source": [
        "#Traiter les données nulles\n",
        "dataset_brute=dataset_brute.replace('\\\\N',np.nan)\n",
        "dataset_brute.isnull().sum()"
      ]
    },
    {
      "cell_type": "code",
      "execution_count": null,
      "metadata": {
        "colab": {
          "base_uri": "https://localhost:8080/"
        },
        "id": "m0t2Aqn3IoIh",
        "outputId": "1fd0fb45-d5cb-4562-ca02-9cb4b300e3e1"
      },
      "outputs": [
        {
          "output_type": "execute_result",
          "data": {
            "text/plain": [
              "(297037, 51)"
            ]
          },
          "metadata": {},
          "execution_count": 4
        }
      ],
      "source": [
        "dataset_brute.shape"
      ]
    },
    {
      "cell_type": "code",
      "execution_count": null,
      "metadata": {
        "id": "3sB7G6gCvIAP"
      },
      "outputs": [],
      "source": [
        "#Fonction pour supprimer l'ensemble des données\n",
        "def remove_nan(dataset):\n",
        "  column_with_nan = dataset.columns[dataset.isnull().any()]\n",
        "  for column in column_with_nan:\n",
        "    if dataset[column].isnull().sum() >=1000 :\n",
        "      dataset.drop(column,1, inplace=True)\n",
        "  dataset.drop(['id','Unnamed: 0','tag','commission','spareOp1','destinataire'],1, inplace=True)\n",
        "  dataset = dataset.dropna (axis = 'index', how = 'any')\n",
        "  return dataset\n"
      ]
    },
    {
      "cell_type": "code",
      "execution_count": null,
      "metadata": {
        "colab": {
          "base_uri": "https://localhost:8080/"
        },
        "id": "kgD8Bdig7fTK",
        "outputId": "7fe322fc-2c28-4409-8e83-0c2e95a7a16d"
      },
      "outputs": [
        {
          "output_type": "stream",
          "name": "stderr",
          "text": [
            "/usr/local/lib/python3.7/dist-packages/ipykernel_launcher.py:6: FutureWarning: In a future version of pandas all arguments of DataFrame.drop except for the argument 'labels' will be keyword-only\n",
            "  \n",
            "/usr/local/lib/python3.7/dist-packages/ipykernel_launcher.py:7: FutureWarning: In a future version of pandas all arguments of DataFrame.drop except for the argument 'labels' will be keyword-only\n",
            "  import sys\n"
          ]
        },
        {
          "output_type": "execute_result",
          "data": {
            "text/plain": [
              "codeNetwork            0\n",
              "codePDA                0\n",
              "codeSalePoint          0\n",
              "codeService            0\n",
              "date                   0\n",
              "frais                  0\n",
              "loginAgent             0\n",
              "montant                0\n",
              "type                   0\n",
              "token                  0\n",
              "network_groupe_code    0\n",
              "spareOp4               0\n",
              "dtype: int64"
            ]
          },
          "metadata": {},
          "execution_count": 6
        }
      ],
      "source": [
        "#Nouveau dataset sans valeurs nulles\n",
        "not_null_dataset = remove_nan(dataset_brute)\n",
        "not_null_dataset.isnull().sum()"
      ]
    },
    {
      "cell_type": "code",
      "execution_count": null,
      "metadata": {
        "colab": {
          "base_uri": "https://localhost:8080/"
        },
        "id": "XSekjbGmsBIc",
        "outputId": "e372eb04-a6a9-455c-9826-f906bd7c7171"
      },
      "outputs": [
        {
          "output_type": "stream",
          "name": "stderr",
          "text": [
            "/usr/local/lib/python3.7/dist-packages/ipykernel_launcher.py:6: FutureWarning: In a future version of pandas all arguments of DataFrame.drop except for the argument 'labels' will be keyword-only\n",
            "  \n"
          ]
        }
      ],
      "source": [
        "#Séparer la colonne date en date et heure\n",
        "def format_colonne(dataset):\n",
        "  dataset[['date_trx','heure_trx']] = dataset.date.str.split(\" \",expand=True)\n",
        "  dataset['montant'] = pd.to_numeric(dataset['montant'])\n",
        "  dataset['montant_total']  = dataset[['montant','frais']].sum(axis=1)\n",
        "  dataset.drop(['date','montant','frais'],1, inplace=True)\n",
        "  return dataset\n",
        "dataset = not_null_dataset.copy()\n",
        "format_dataset = format_colonne(dataset)"
      ]
    },
    {
      "cell_type": "code",
      "execution_count": null,
      "metadata": {
        "colab": {
          "base_uri": "https://localhost:8080/",
          "height": 684
        },
        "id": "iKleKigD8Jcg",
        "outputId": "84f9782b-be87-4545-831f-8cd43c1c7879"
      },
      "outputs": [
        {
          "output_type": "execute_result",
          "data": {
            "text/plain": [
              "       codeNetwork  codePDA codeSalePoint                 codeService  \\\n",
              "107750        UCAD  PW90876     UCAD11281          PAIEMENTMARCHANDEM   \n",
              "231264        UCAD  PW90876     UCAD11281  SN_PAIEMENTMARCHAND_WIZALL   \n",
              "231269        UCAD  PW90876     UCAD11281  SN_PAIEMENTMARCHAND_WIZALL   \n",
              "237252        UCAD  PW90876     UCAD11281  SN_PAIEMENTMARCHAND_WIZALL   \n",
              "237258        UCAD  PW90876     UCAD11281  SN_PAIEMENTMARCHAND_WIZALL   \n",
              "237288        UCAD  PW90876     UCAD11281  SN_PAIEMENTMARCHAND_WIZALL   \n",
              "237299        UCAD  PW90876     UCAD11281  SN_PAIEMENTMARCHAND_WIZALL   \n",
              "237306        UCAD  PW90876     UCAD11281  SN_PAIEMENTMARCHAND_WIZALL   \n",
              "237421        UCAD  PW90876     UCAD11281  SN_PAIEMENTMARCHAND_WIZALL   \n",
              "237435        UCAD  PW90876     UCAD11281  SN_PAIEMENTMARCHAND_WIZALL   \n",
              "237447        UCAD  PW90876     UCAD11281  SN_PAIEMENTMARCHAND_WIZALL   \n",
              "237648        UCAD  PW90876     UCAD11281  SN_PAIEMENTMARCHAND_WIZALL   \n",
              "\n",
              "       loginAgent                        type          token  \\\n",
              "107750  776084616          PAIEMENTMARCHANDEM  1642602438854   \n",
              "231264  776084616  SN_PAIEMENTMARCHAND_WIZALL  1646403860381   \n",
              "231269  776084616  SN_PAIEMENTMARCHAND_WIZALL  1646404037644   \n",
              "237252  776084616  SN_PAIEMENTMARCHAND_WIZALL  1646559987342   \n",
              "237258  776084616  SN_PAIEMENTMARCHAND_WIZALL  1646560195081   \n",
              "237288  776084616  SN_PAIEMENTMARCHAND_WIZALL  1646561731895   \n",
              "237299  776084616  SN_PAIEMENTMARCHAND_WIZALL  1646560386645   \n",
              "237306  776084616  SN_PAIEMENTMARCHAND_WIZALL  1646562375092   \n",
              "237421  776084616  SN_PAIEMENTMARCHAND_WIZALL  1646568747352   \n",
              "237435  776084616  SN_PAIEMENTMARCHAND_WIZALL  1646569282121   \n",
              "237447  776084616  SN_PAIEMENTMARCHAND_WIZALL  1646570060498   \n",
              "237648  776084616  SN_PAIEMENTMARCHAND_WIZALL  1646580607796   \n",
              "\n",
              "       network_groupe_code  spareOp4    date_trx heure_trx  montant_total  \n",
              "107750                  SN  CAISSIER  2022-01-19  14:28:13        25000.0  \n",
              "231264                  SN  CAISSIER  2022-03-04  14:24:53        25000.0  \n",
              "231269                  SN  CAISSIER  2022-03-04  14:27:36        25000.0  \n",
              "237252                  SN  CAISSIER  2022-03-06  09:46:46        50000.0  \n",
              "237258                  SN  CAISSIER  2022-03-06  09:50:03        50000.0  \n",
              "237288                  SN  CAISSIER  2022-03-06  10:15:46        25000.0  \n",
              "237299                  SN  CAISSIER  2022-03-06  10:21:33        50000.0  \n",
              "237306                  SN  CAISSIER  2022-03-06  10:26:25        25000.0  \n",
              "237421                  SN  CAISSIER  2022-03-06  12:13:07        25000.0  \n",
              "237435                  SN  CAISSIER  2022-03-06  12:21:31        25000.0  \n",
              "237447                  SN  CAISSIER  2022-03-06  12:34:31        25000.0  \n",
              "237648                  SN  CAISSIER  2022-03-06  15:30:38        25000.0  "
            ],
            "text/html": [
              "\n",
              "  <div id=\"df-bb3154fd-2713-4d57-a278-598bb506c28e\">\n",
              "    <div class=\"colab-df-container\">\n",
              "      <div>\n",
              "<style scoped>\n",
              "    .dataframe tbody tr th:only-of-type {\n",
              "        vertical-align: middle;\n",
              "    }\n",
              "\n",
              "    .dataframe tbody tr th {\n",
              "        vertical-align: top;\n",
              "    }\n",
              "\n",
              "    .dataframe thead th {\n",
              "        text-align: right;\n",
              "    }\n",
              "</style>\n",
              "<table border=\"1\" class=\"dataframe\">\n",
              "  <thead>\n",
              "    <tr style=\"text-align: right;\">\n",
              "      <th></th>\n",
              "      <th>codeNetwork</th>\n",
              "      <th>codePDA</th>\n",
              "      <th>codeSalePoint</th>\n",
              "      <th>codeService</th>\n",
              "      <th>loginAgent</th>\n",
              "      <th>type</th>\n",
              "      <th>token</th>\n",
              "      <th>network_groupe_code</th>\n",
              "      <th>spareOp4</th>\n",
              "      <th>date_trx</th>\n",
              "      <th>heure_trx</th>\n",
              "      <th>montant_total</th>\n",
              "    </tr>\n",
              "  </thead>\n",
              "  <tbody>\n",
              "    <tr>\n",
              "      <th>107750</th>\n",
              "      <td>UCAD</td>\n",
              "      <td>PW90876</td>\n",
              "      <td>UCAD11281</td>\n",
              "      <td>PAIEMENTMARCHANDEM</td>\n",
              "      <td>776084616</td>\n",
              "      <td>PAIEMENTMARCHANDEM</td>\n",
              "      <td>1642602438854</td>\n",
              "      <td>SN</td>\n",
              "      <td>CAISSIER</td>\n",
              "      <td>2022-01-19</td>\n",
              "      <td>14:28:13</td>\n",
              "      <td>25000.0</td>\n",
              "    </tr>\n",
              "    <tr>\n",
              "      <th>231264</th>\n",
              "      <td>UCAD</td>\n",
              "      <td>PW90876</td>\n",
              "      <td>UCAD11281</td>\n",
              "      <td>SN_PAIEMENTMARCHAND_WIZALL</td>\n",
              "      <td>776084616</td>\n",
              "      <td>SN_PAIEMENTMARCHAND_WIZALL</td>\n",
              "      <td>1646403860381</td>\n",
              "      <td>SN</td>\n",
              "      <td>CAISSIER</td>\n",
              "      <td>2022-03-04</td>\n",
              "      <td>14:24:53</td>\n",
              "      <td>25000.0</td>\n",
              "    </tr>\n",
              "    <tr>\n",
              "      <th>231269</th>\n",
              "      <td>UCAD</td>\n",
              "      <td>PW90876</td>\n",
              "      <td>UCAD11281</td>\n",
              "      <td>SN_PAIEMENTMARCHAND_WIZALL</td>\n",
              "      <td>776084616</td>\n",
              "      <td>SN_PAIEMENTMARCHAND_WIZALL</td>\n",
              "      <td>1646404037644</td>\n",
              "      <td>SN</td>\n",
              "      <td>CAISSIER</td>\n",
              "      <td>2022-03-04</td>\n",
              "      <td>14:27:36</td>\n",
              "      <td>25000.0</td>\n",
              "    </tr>\n",
              "    <tr>\n",
              "      <th>237252</th>\n",
              "      <td>UCAD</td>\n",
              "      <td>PW90876</td>\n",
              "      <td>UCAD11281</td>\n",
              "      <td>SN_PAIEMENTMARCHAND_WIZALL</td>\n",
              "      <td>776084616</td>\n",
              "      <td>SN_PAIEMENTMARCHAND_WIZALL</td>\n",
              "      <td>1646559987342</td>\n",
              "      <td>SN</td>\n",
              "      <td>CAISSIER</td>\n",
              "      <td>2022-03-06</td>\n",
              "      <td>09:46:46</td>\n",
              "      <td>50000.0</td>\n",
              "    </tr>\n",
              "    <tr>\n",
              "      <th>237258</th>\n",
              "      <td>UCAD</td>\n",
              "      <td>PW90876</td>\n",
              "      <td>UCAD11281</td>\n",
              "      <td>SN_PAIEMENTMARCHAND_WIZALL</td>\n",
              "      <td>776084616</td>\n",
              "      <td>SN_PAIEMENTMARCHAND_WIZALL</td>\n",
              "      <td>1646560195081</td>\n",
              "      <td>SN</td>\n",
              "      <td>CAISSIER</td>\n",
              "      <td>2022-03-06</td>\n",
              "      <td>09:50:03</td>\n",
              "      <td>50000.0</td>\n",
              "    </tr>\n",
              "    <tr>\n",
              "      <th>237288</th>\n",
              "      <td>UCAD</td>\n",
              "      <td>PW90876</td>\n",
              "      <td>UCAD11281</td>\n",
              "      <td>SN_PAIEMENTMARCHAND_WIZALL</td>\n",
              "      <td>776084616</td>\n",
              "      <td>SN_PAIEMENTMARCHAND_WIZALL</td>\n",
              "      <td>1646561731895</td>\n",
              "      <td>SN</td>\n",
              "      <td>CAISSIER</td>\n",
              "      <td>2022-03-06</td>\n",
              "      <td>10:15:46</td>\n",
              "      <td>25000.0</td>\n",
              "    </tr>\n",
              "    <tr>\n",
              "      <th>237299</th>\n",
              "      <td>UCAD</td>\n",
              "      <td>PW90876</td>\n",
              "      <td>UCAD11281</td>\n",
              "      <td>SN_PAIEMENTMARCHAND_WIZALL</td>\n",
              "      <td>776084616</td>\n",
              "      <td>SN_PAIEMENTMARCHAND_WIZALL</td>\n",
              "      <td>1646560386645</td>\n",
              "      <td>SN</td>\n",
              "      <td>CAISSIER</td>\n",
              "      <td>2022-03-06</td>\n",
              "      <td>10:21:33</td>\n",
              "      <td>50000.0</td>\n",
              "    </tr>\n",
              "    <tr>\n",
              "      <th>237306</th>\n",
              "      <td>UCAD</td>\n",
              "      <td>PW90876</td>\n",
              "      <td>UCAD11281</td>\n",
              "      <td>SN_PAIEMENTMARCHAND_WIZALL</td>\n",
              "      <td>776084616</td>\n",
              "      <td>SN_PAIEMENTMARCHAND_WIZALL</td>\n",
              "      <td>1646562375092</td>\n",
              "      <td>SN</td>\n",
              "      <td>CAISSIER</td>\n",
              "      <td>2022-03-06</td>\n",
              "      <td>10:26:25</td>\n",
              "      <td>25000.0</td>\n",
              "    </tr>\n",
              "    <tr>\n",
              "      <th>237421</th>\n",
              "      <td>UCAD</td>\n",
              "      <td>PW90876</td>\n",
              "      <td>UCAD11281</td>\n",
              "      <td>SN_PAIEMENTMARCHAND_WIZALL</td>\n",
              "      <td>776084616</td>\n",
              "      <td>SN_PAIEMENTMARCHAND_WIZALL</td>\n",
              "      <td>1646568747352</td>\n",
              "      <td>SN</td>\n",
              "      <td>CAISSIER</td>\n",
              "      <td>2022-03-06</td>\n",
              "      <td>12:13:07</td>\n",
              "      <td>25000.0</td>\n",
              "    </tr>\n",
              "    <tr>\n",
              "      <th>237435</th>\n",
              "      <td>UCAD</td>\n",
              "      <td>PW90876</td>\n",
              "      <td>UCAD11281</td>\n",
              "      <td>SN_PAIEMENTMARCHAND_WIZALL</td>\n",
              "      <td>776084616</td>\n",
              "      <td>SN_PAIEMENTMARCHAND_WIZALL</td>\n",
              "      <td>1646569282121</td>\n",
              "      <td>SN</td>\n",
              "      <td>CAISSIER</td>\n",
              "      <td>2022-03-06</td>\n",
              "      <td>12:21:31</td>\n",
              "      <td>25000.0</td>\n",
              "    </tr>\n",
              "    <tr>\n",
              "      <th>237447</th>\n",
              "      <td>UCAD</td>\n",
              "      <td>PW90876</td>\n",
              "      <td>UCAD11281</td>\n",
              "      <td>SN_PAIEMENTMARCHAND_WIZALL</td>\n",
              "      <td>776084616</td>\n",
              "      <td>SN_PAIEMENTMARCHAND_WIZALL</td>\n",
              "      <td>1646570060498</td>\n",
              "      <td>SN</td>\n",
              "      <td>CAISSIER</td>\n",
              "      <td>2022-03-06</td>\n",
              "      <td>12:34:31</td>\n",
              "      <td>25000.0</td>\n",
              "    </tr>\n",
              "    <tr>\n",
              "      <th>237648</th>\n",
              "      <td>UCAD</td>\n",
              "      <td>PW90876</td>\n",
              "      <td>UCAD11281</td>\n",
              "      <td>SN_PAIEMENTMARCHAND_WIZALL</td>\n",
              "      <td>776084616</td>\n",
              "      <td>SN_PAIEMENTMARCHAND_WIZALL</td>\n",
              "      <td>1646580607796</td>\n",
              "      <td>SN</td>\n",
              "      <td>CAISSIER</td>\n",
              "      <td>2022-03-06</td>\n",
              "      <td>15:30:38</td>\n",
              "      <td>25000.0</td>\n",
              "    </tr>\n",
              "  </tbody>\n",
              "</table>\n",
              "</div>\n",
              "      <button class=\"colab-df-convert\" onclick=\"convertToInteractive('df-bb3154fd-2713-4d57-a278-598bb506c28e')\"\n",
              "              title=\"Convert this dataframe to an interactive table.\"\n",
              "              style=\"display:none;\">\n",
              "        \n",
              "  <svg xmlns=\"http://www.w3.org/2000/svg\" height=\"24px\"viewBox=\"0 0 24 24\"\n",
              "       width=\"24px\">\n",
              "    <path d=\"M0 0h24v24H0V0z\" fill=\"none\"/>\n",
              "    <path d=\"M18.56 5.44l.94 2.06.94-2.06 2.06-.94-2.06-.94-.94-2.06-.94 2.06-2.06.94zm-11 1L8.5 8.5l.94-2.06 2.06-.94-2.06-.94L8.5 2.5l-.94 2.06-2.06.94zm10 10l.94 2.06.94-2.06 2.06-.94-2.06-.94-.94-2.06-.94 2.06-2.06.94z\"/><path d=\"M17.41 7.96l-1.37-1.37c-.4-.4-.92-.59-1.43-.59-.52 0-1.04.2-1.43.59L10.3 9.45l-7.72 7.72c-.78.78-.78 2.05 0 2.83L4 21.41c.39.39.9.59 1.41.59.51 0 1.02-.2 1.41-.59l7.78-7.78 2.81-2.81c.8-.78.8-2.07 0-2.86zM5.41 20L4 18.59l7.72-7.72 1.47 1.35L5.41 20z\"/>\n",
              "  </svg>\n",
              "      </button>\n",
              "      \n",
              "  <style>\n",
              "    .colab-df-container {\n",
              "      display:flex;\n",
              "      flex-wrap:wrap;\n",
              "      gap: 12px;\n",
              "    }\n",
              "\n",
              "    .colab-df-convert {\n",
              "      background-color: #E8F0FE;\n",
              "      border: none;\n",
              "      border-radius: 50%;\n",
              "      cursor: pointer;\n",
              "      display: none;\n",
              "      fill: #1967D2;\n",
              "      height: 32px;\n",
              "      padding: 0 0 0 0;\n",
              "      width: 32px;\n",
              "    }\n",
              "\n",
              "    .colab-df-convert:hover {\n",
              "      background-color: #E2EBFA;\n",
              "      box-shadow: 0px 1px 2px rgba(60, 64, 67, 0.3), 0px 1px 3px 1px rgba(60, 64, 67, 0.15);\n",
              "      fill: #174EA6;\n",
              "    }\n",
              "\n",
              "    [theme=dark] .colab-df-convert {\n",
              "      background-color: #3B4455;\n",
              "      fill: #D2E3FC;\n",
              "    }\n",
              "\n",
              "    [theme=dark] .colab-df-convert:hover {\n",
              "      background-color: #434B5C;\n",
              "      box-shadow: 0px 1px 3px 1px rgba(0, 0, 0, 0.15);\n",
              "      filter: drop-shadow(0px 1px 2px rgba(0, 0, 0, 0.3));\n",
              "      fill: #FFFFFF;\n",
              "    }\n",
              "  </style>\n",
              "\n",
              "      <script>\n",
              "        const buttonEl =\n",
              "          document.querySelector('#df-bb3154fd-2713-4d57-a278-598bb506c28e button.colab-df-convert');\n",
              "        buttonEl.style.display =\n",
              "          google.colab.kernel.accessAllowed ? 'block' : 'none';\n",
              "\n",
              "        async function convertToInteractive(key) {\n",
              "          const element = document.querySelector('#df-bb3154fd-2713-4d57-a278-598bb506c28e');\n",
              "          const dataTable =\n",
              "            await google.colab.kernel.invokeFunction('convertToInteractive',\n",
              "                                                     [key], {});\n",
              "          if (!dataTable) return;\n",
              "\n",
              "          const docLinkHtml = 'Like what you see? Visit the ' +\n",
              "            '<a target=\"_blank\" href=https://colab.research.google.com/notebooks/data_table.ipynb>data table notebook</a>'\n",
              "            + ' to learn more about interactive tables.';\n",
              "          element.innerHTML = '';\n",
              "          dataTable['output_type'] = 'display_data';\n",
              "          await google.colab.output.renderOutput(dataTable, element);\n",
              "          const docLink = document.createElement('div');\n",
              "          docLink.innerHTML = docLinkHtml;\n",
              "          element.appendChild(docLink);\n",
              "        }\n",
              "      </script>\n",
              "    </div>\n",
              "  </div>\n",
              "  "
            ]
          },
          "metadata": {},
          "execution_count": 8
        }
      ],
      "source": [
        "#Le dataset pour le modèle de machine learning\n",
        "format_dataset[ format_dataset['loginAgent']==776084616]"
      ]
    },
    {
      "cell_type": "code",
      "execution_count": null,
      "metadata": {
        "colab": {
          "base_uri": "https://localhost:8080/",
          "height": 124
        },
        "id": "LKgK2cCpneom",
        "outputId": "4fed2427-1f09-467a-c22e-71280291ac2b"
      },
      "outputs": [
        {
          "output_type": "execute_result",
          "data": {
            "text/plain": [
              "'def aggregate_dataset(dataset):\\n  df1=dataset.copy()\\n  df2=dataset.copy()\\n  data1 = df1.groupby([\\'loginAgent\\',\\'date_trx\\'])[\\'montant_total\\'].agg([\\'mean\\']).reset_index()\\n  data2 = df2.groupby([\\'loginAgent\\',\\'date_trx\\']).size().reset_index(name=\"counts\")\\n  len_dataset = dataset.shape[0]\\n  dataset=dataset.assign(montant_moyen_agent_jour=0.0)\\n  dataset=dataset.assign(trx_agent_jour=0)\\n  print(dataset.columns)\\n  for i in range(len_dataset):\\n    login,date = dataset.iloc[i][\\'loginAgent\\'],dataset.iloc[i][\\'date_trx\\']\\n    ##### Montant moyen\\n    montant=np.max(np.where((data1[\\'loginAgent\\']==login) & (data1[\\'date_trx\\']==date),data1[\\'mean\\'],0))\\n    #### Nombre de trx moyen\\n    count=np.max(np.where((data2[\\'loginAgent\\']==login) & (data2[\\'date_trx\\']==date),data2[\\'counts\\'],0))\\n    dataset[\\'trx_agent_jour\\'].iloc[i]=count\\n    dataset[\\'montant_moyen_agent_jour\\'].iloc[i]=montant \\n  return dataset'"
            ],
            "application/vnd.google.colaboratory.intrinsic+json": {
              "type": "string"
            }
          },
          "metadata": {},
          "execution_count": 9
        }
      ],
      "source": [
        "# Calculer et assigner une colonne contenant les montants moyens par jour par agent\n",
        "\"\"\"def aggregate_dataset(dataset):\n",
        "  df1=dataset.copy()\n",
        "  df2=dataset.copy()\n",
        "  data1 = df1.groupby(['loginAgent','date_trx'])['montant_total'].agg(['mean']).reset_index()\n",
        "  data2 = df2.groupby(['loginAgent','date_trx']).size().reset_index(name=\"counts\")\n",
        "  len_dataset = dataset.shape[0]\n",
        "  dataset=dataset.assign(montant_moyen_agent_jour=0.0)\n",
        "  dataset=dataset.assign(trx_agent_jour=0)\n",
        "  print(dataset.columns)\n",
        "  for i in range(len_dataset):\n",
        "    login,date = dataset.iloc[i]['loginAgent'],dataset.iloc[i]['date_trx']\n",
        "    ##### Montant moyen\n",
        "    montant=np.max(np.where((data1['loginAgent']==login) & (data1['date_trx']==date),data1['mean'],0))\n",
        "    #### Nombre de trx moyen\n",
        "    count=np.max(np.where((data2['loginAgent']==login) & (data2['date_trx']==date),data2['counts'],0))\n",
        "    dataset['trx_agent_jour'].iloc[i]=count\n",
        "    dataset['montant_moyen_agent_jour'].iloc[i]=montant\n",
        "  return dataset\"\"\"\n"
      ]
    },
    {
      "cell_type": "code",
      "execution_count": null,
      "metadata": {
        "colab": {
          "base_uri": "https://localhost:8080/",
          "height": 36
        },
        "id": "O_XVjKd_AExO",
        "outputId": "c4a4a9f4-d03b-4d29-d531-dfcca01c7432"
      },
      "outputs": [
        {
          "output_type": "execute_result",
          "data": {
            "text/plain": [
              "'dataset=format_dataset.copy()\\ndata_agg = aggregate_dataset(dataset)'"
            ],
            "application/vnd.google.colaboratory.intrinsic+json": {
              "type": "string"
            }
          },
          "metadata": {},
          "execution_count": 10
        }
      ],
      "source": [
        "\"\"\"dataset=format_dataset.copy()\n",
        "data_agg = aggregate_dataset(dataset)\"\"\""
      ]
    },
    {
      "cell_type": "code",
      "execution_count": null,
      "metadata": {
        "colab": {
          "base_uri": "https://localhost:8080/"
        },
        "id": "JcSojovC3NG3",
        "outputId": "d6dce2db-df5e-41aa-fb80-7097adbca49b"
      },
      "outputs": [
        {
          "output_type": "stream",
          "name": "stderr",
          "text": [
            "/usr/local/lib/python3.7/dist-packages/ipykernel_launcher.py:5: FutureWarning: In a future version of pandas all arguments of DataFrame.drop except for the argument 'labels' will be keyword-only\n",
            "  \"\"\"\n"
          ]
        }
      ],
      "source": [
        "#Charger le dernier dataset pour ne pas run la fonction encore une fois\n",
        "new_file = pd.read_csv(\"newDataset\",sep=\",\")\n",
        "dataset_moteur = pd.DataFrame(new_file)\n",
        "dataset_moteur['date'] = pd.to_datetime(dataset_moteur[\"date_trx\"].astype(str) + \" \" + dataset_moteur[\"heure_trx\"])\n",
        "dataset_moteur.drop(['Unnamed: 0','heure_trx','date_trx'],1, inplace=True)"
      ]
    },
    {
      "cell_type": "code",
      "execution_count": null,
      "metadata": {
        "colab": {
          "base_uri": "https://localhost:8080/",
          "height": 89
        },
        "id": "4MoeUu9afv_x",
        "outputId": "93f0c87a-9937-428c-a929-be7b6dad526a"
      },
      "outputs": [
        {
          "output_type": "execute_result",
          "data": {
            "text/plain": [
              "\"def nombre_connexion_heure(dataset) : \\n  df=dataset.copy()\\n  len_dataset = dataset.shape[0]\\n  dataset=dataset.assign(nombre_connexion_heure=0.0)\\n  data = df.groupby(['loginAgent',pd.Grouper(key='date', freq='H')])['token'].size().reset_index()\\n  for i in range(len_dataset):\\n    login,date = dataset.iloc[i]['loginAgent'],dataset.iloc[i]['date']\\n    con  = np.max(np.where((data['loginAgent']==login) & (abs(data['date']-date).astype('timedelta64[h]')< 1 ),data['token'],0))\\n    dataset['nombre_connexion_heure'].iloc[i]=con\\n  return dataset\""
            ],
            "application/vnd.google.colaboratory.intrinsic+json": {
              "type": "string"
            }
          },
          "metadata": {},
          "execution_count": 12
        }
      ],
      "source": [
        "## Le nombre de connexion par agent par heure\n",
        "\"\"\"def nombre_connexion_heure(dataset) :\n",
        "  df=dataset.copy()\n",
        "  len_dataset = dataset.shape[0]\n",
        "  dataset=dataset.assign(nombre_connexion_heure=0.0)\n",
        "  data = df.groupby(['loginAgent',pd.Grouper(key='date', freq='H')])['token'].size().reset_index()\n",
        "  for i in range(len_dataset):\n",
        "    login,date = dataset.iloc[i]['loginAgent'],dataset.iloc[i]['date']\n",
        "    con  = np.max(np.where((data['loginAgent']==login) & (abs(data['date']-date).astype('timedelta64[h]')< 1 ),data['token'],0))\n",
        "    dataset['nombre_connexion_heure'].iloc[i]=con\n",
        "  return dataset\"\"\"\n"
      ]
    },
    {
      "cell_type": "code",
      "execution_count": null,
      "metadata": {
        "colab": {
          "base_uri": "https://localhost:8080/",
          "height": 36
        },
        "id": "baRyYUo1rvb8",
        "outputId": "5b198082-f6f6-4157-d753-f885216580a8"
      },
      "outputs": [
        {
          "output_type": "execute_result",
          "data": {
            "text/plain": [
              "\"d  = dataset_moteur.copy()\\nda = nombre_connexion_heure(d)\\nda.to_csv('BrandNewDataset.csv')\""
            ],
            "application/vnd.google.colaboratory.intrinsic+json": {
              "type": "string"
            }
          },
          "metadata": {},
          "execution_count": 13
        }
      ],
      "source": [
        "\"\"\"d  = dataset_moteur.copy()\n",
        "da = nombre_connexion_heure(d)\n",
        "da.to_csv('BrandNewDataset.csv')\"\"\""
      ]
    },
    {
      "cell_type": "code",
      "execution_count": null,
      "metadata": {
        "colab": {
          "base_uri": "https://localhost:8080/"
        },
        "id": "FKkAZu6apnVr",
        "outputId": "4e0a77f5-c782-436c-cad2-721a5b96da27"
      },
      "outputs": [
        {
          "output_type": "stream",
          "name": "stderr",
          "text": [
            "/usr/local/lib/python3.7/dist-packages/ipykernel_launcher.py:4: FutureWarning: In a future version of pandas all arguments of DataFrame.drop except for the argument 'labels' will be keyword-only\n",
            "  after removing the cwd from sys.path.\n"
          ]
        }
      ],
      "source": [
        "#Charger le dernier dataset pour ne pas run la fonction encore une fois\n",
        "brand_new_file = pd.read_csv(\"BrandNewDataset.csv\",sep=\",\")\n",
        "new_dataset_moteur = pd.DataFrame(brand_new_file)\n",
        "new_dataset_moteur.drop('Unnamed: 0',1, inplace=True)"
      ]
    },
    {
      "cell_type": "code",
      "execution_count": null,
      "metadata": {
        "id": "6szy7b410Zuz"
      },
      "outputs": [],
      "source": [
        "new_dataset_moteur = new_dataset_moteur.rename(columns={'montant_moyen_agent_jour':'montant_moyen_agent_diff_jour','trx_agent_jour':'trx_agent_diff_jour',\n",
        "                                   'nombre_connexion_heure':'nombre_connexion_diff_heure'})"
      ]
    },
    {
      "cell_type": "code",
      "execution_count": null,
      "metadata": {
        "colab": {
          "base_uri": "https://localhost:8080/",
          "height": 124
        },
        "id": "kZyvz_F-yYkc",
        "outputId": "0c664dd8-d089-4bd7-8ede-2d0f25e19c63"
      },
      "outputs": [
        {
          "output_type": "execute_result",
          "data": {
            "text/plain": [
              "\"def moyenne_global(dataset):\\n  df=dataset.copy()\\n  data = df.groupby(['loginAgent'])['montant_moyen_agent_diff_jour','trx_agent_diff_jour','nombre_connexion_diff_heure'].mean().reset_index()\\n  len_dataset = dataset.shape[0]\\n  dataset=dataset.assign(montant_moyen_agent_par_jour=0.0,trx_agent_par_jour=0,nombre_connexion_par_heure=0)\\n  for i in range(len_dataset):\\n    login = dataset.iloc[i]['loginAgent']\\n    mon,trx,conn = np.amax(np.where((data['loginAgent']==login),[data['montant_moyen_agent_diff_jour'],\\n                                                                            data['trx_agent_diff_jour'],data['nombre_connexion_diff_heure']],0),axis=1)\\n  \\n    [dataset['montant_moyen_agent_par_jour'].iloc[i],dataset['trx_agent_par_jour'].iloc[i],\\n                          dataset['nombre_connexion_par_heure'].iloc[i]]  = [mon,trx,conn]\\n    \\n  return dataset\""
            ],
            "application/vnd.google.colaboratory.intrinsic+json": {
              "type": "string"
            }
          },
          "metadata": {},
          "execution_count": 16
        }
      ],
      "source": [
        "#Une fonction pour calculer les moyennes globales\n",
        "\"\"\"def moyenne_global(dataset):\n",
        "  df=dataset.copy()\n",
        "  data = df.groupby(['loginAgent'])['montant_moyen_agent_diff_jour','trx_agent_diff_jour','nombre_connexion_diff_heure'].mean().reset_index()\n",
        "  len_dataset = dataset.shape[0]\n",
        "  dataset=dataset.assign(montant_moyen_agent_par_jour=0.0,trx_agent_par_jour=0,nombre_connexion_par_heure=0)\n",
        "  for i in range(len_dataset):\n",
        "    login = dataset.iloc[i]['loginAgent']\n",
        "    mon,trx,conn = np.amax(np.where((data['loginAgent']==login),[data['montant_moyen_agent_diff_jour'],\n",
        "                                                                            data['trx_agent_diff_jour'],data['nombre_connexion_diff_heure']],0),axis=1)\n",
        "\n",
        "    [dataset['montant_moyen_agent_par_jour'].iloc[i],dataset['trx_agent_par_jour'].iloc[i],\n",
        "                          dataset['nombre_connexion_par_heure'].iloc[i]]  = [mon,trx,conn]\n",
        "\n",
        "  return dataset\"\"\""
      ]
    },
    {
      "cell_type": "code",
      "execution_count": null,
      "metadata": {
        "colab": {
          "base_uri": "https://localhost:8080/",
          "height": 36
        },
        "id": "MvePfGUGCe86",
        "outputId": "baa402e4-3cfb-40c6-9054-c98f017e9890"
      },
      "outputs": [
        {
          "output_type": "execute_result",
          "data": {
            "text/plain": [
              "'df = new_dataset_moteur.copy()\\nfinished_dataset_moteur = moyenne_global(df)\\nfinished_dataset_moteur.to_csv(\"finished.csv\")'"
            ],
            "application/vnd.google.colaboratory.intrinsic+json": {
              "type": "string"
            }
          },
          "metadata": {},
          "execution_count": 17
        }
      ],
      "source": [
        "\"\"\"df = new_dataset_moteur.copy()\n",
        "finished_dataset_moteur = moyenne_global(df)\n",
        "finished_dataset_moteur.to_csv(\"finished.csv\")\"\"\""
      ]
    },
    {
      "cell_type": "markdown",
      "metadata": {
        "id": "X7StLhigOiUY"
      },
      "source": [
        "# Partie2: Le moteur de règle"
      ]
    },
    {
      "cell_type": "code",
      "execution_count": null,
      "metadata": {
        "colab": {
          "base_uri": "https://localhost:8080/"
        },
        "id": "qMuvtMVZfGBX",
        "outputId": "1fcca218-7aa8-4ef9-f58e-d51fc0f0456a"
      },
      "outputs": [
        {
          "output_type": "stream",
          "name": "stdout",
          "text": [
            "Looking in indexes: https://pypi.org/simple, https://us-python.pkg.dev/colab-wheels/public/simple/\n",
            "Collecting efficient-apriori\n",
            "  Downloading efficient_apriori-2.0.1-py3-none-any.whl (14 kB)\n",
            "Installing collected packages: efficient-apriori\n",
            "Successfully installed efficient-apriori-2.0.1\n"
          ]
        }
      ],
      "source": [
        "!pip install efficient-apriori"
      ]
    },
    {
      "cell_type": "code",
      "execution_count": null,
      "metadata": {
        "colab": {
          "base_uri": "https://localhost:8080/"
        },
        "id": "15-FV2VIC9vO",
        "outputId": "845bf2db-689c-4049-be43-336573e33a08"
      },
      "outputs": [
        {
          "output_type": "stream",
          "name": "stderr",
          "text": [
            "/usr/local/lib/python3.7/dist-packages/IPython/core/interactiveshell.py:3326: DtypeWarning: Columns (5) have mixed types.Specify dtype option on import or set low_memory=False.\n",
            "  exec(code_obj, self.user_global_ns, self.user_ns)\n",
            "/usr/local/lib/python3.7/dist-packages/ipykernel_launcher.py:3: FutureWarning: In a future version of pandas all arguments of DataFrame.drop except for the argument 'labels' will be keyword-only\n",
            "  This is separate from the ipykernel package so we can avoid doing imports until\n"
          ]
        }
      ],
      "source": [
        "finished_file = pd.read_csv(\"finished.csv\",sep=\",\")\n",
        "finished_dataset_moteur = pd.DataFrame(finished_file)\n",
        "finished_dataset_moteur.drop(['Unnamed: 0','token'],1, inplace=True)\n",
        "#formater pour avoir des int\n",
        "final_dataset_moteur = finished_dataset_moteur.round({\"trx_agent_par_jour\":0,\"nombre_connexion_par_heure\":0,\"nombre_connexion_diff_heure\":0}).astype({\"trx_agent_par_jour\":'int64',\"nombre_connexion_par_heure\":'int64',\"nombre_connexion_diff_heure\":'int64'})\n"
      ]
    },
    {
      "cell_type": "code",
      "execution_count": null,
      "metadata": {
        "colab": {
          "base_uri": "https://localhost:8080/"
        },
        "id": "30yNSIl0ucjH",
        "outputId": "c6c7df63-0b40-4789-bfdd-3a21b12187e3"
      },
      "outputs": [
        {
          "output_type": "stream",
          "name": "stderr",
          "text": [
            "/usr/local/lib/python3.7/dist-packages/ipykernel_launcher.py:2: FutureWarning: In a future version of pandas all arguments of DataFrame.drop except for the argument 'labels' will be keyword-only\n",
            "  \n"
          ]
        }
      ],
      "source": [
        "final_dataset_moteur[['date_trx','heure_trx']] = final_dataset_moteur.date.str.split(\" \",expand=True)\n",
        "final_dataset_moteur.drop(['date_trx','date','codeNetwork','codePDA','codeSalePoint','type','montant_moyen_agent_diff_jour','trx_agent_diff_jour','nombre_connexion_diff_heure','trx_agent_par_jour','nombre_connexion_par_heure'],1,inplace=True)"
      ]
    },
    {
      "cell_type": "code",
      "execution_count": null,
      "metadata": {
        "colab": {
          "base_uri": "https://localhost:8080/"
        },
        "id": "ycdRxBlTPFf2",
        "outputId": "70baf052-fdc8-4dc2-fee5-3a0b4c7d5187"
      },
      "outputs": [
        {
          "output_type": "execute_result",
          "data": {
            "text/plain": [
              "SN_INIT_PAIEMENT_TP           411\n",
              "PAIEMENTMARCHANDOMSN2          56\n",
              "SN_PAIEMENTMARCHAND_WIZALL     54\n",
              "PAIEMENTMARCHANDTIGO            8\n",
              "SNPAIEMENTORABANKNGENIUS        7\n",
              "Name: codeService, dtype: int64"
            ]
          },
          "metadata": {},
          "execution_count": 21
        }
      ],
      "source": [
        "final_dataset_moteur[final_dataset_moteur['loginAgent']=='776084616'][\"codeService\"].value_counts()"
      ]
    },
    {
      "cell_type": "code",
      "execution_count": null,
      "metadata": {
        "id": "zx3EtzQ_PFkU"
      },
      "outputs": [],
      "source": [
        "#Calculer l'écart de chaque montant à la moyenne\n",
        "def ecart_moyenne(dataset):\n",
        "  dataset['ecart'] = abs(dataset['montant_total']-dataset['montant_moyen_agent_par_jour'])\n",
        "  return dataset"
      ]
    },
    {
      "cell_type": "code",
      "execution_count": null,
      "metadata": {
        "id": "ZxBUIRUX0Ca6"
      },
      "outputs": [],
      "source": [
        "moteur_dataset=ecart_moyenne(final_dataset_moteur)"
      ]
    },
    {
      "cell_type": "code",
      "execution_count": null,
      "metadata": {
        "id": "23ziu1rBthY2"
      },
      "outputs": [],
      "source": [
        "#Transformer le dataset\n",
        "def transform_heure(dataset):\n",
        "  dataset['heure'] = dataset.heure_trx.str.split(\":\",expand=True)[0]\n",
        "  dataset.drop('heure_trx',1,inplace=True)\n",
        "  return dataset"
      ]
    },
    {
      "cell_type": "code",
      "execution_count": null,
      "metadata": {
        "colab": {
          "base_uri": "https://localhost:8080/"
        },
        "id": "bKQ7tv9RPFoN",
        "outputId": "ef5b8d69-7ae8-414f-941f-c9b588191dba"
      },
      "outputs": [
        {
          "output_type": "stream",
          "name": "stderr",
          "text": [
            "/usr/local/lib/python3.7/dist-packages/ipykernel_launcher.py:4: FutureWarning: In a future version of pandas all arguments of DataFrame.drop except for the argument 'labels' will be keyword-only\n",
            "  after removing the cwd from sys.path.\n"
          ]
        }
      ],
      "source": [
        "moteur_dataset = transform_heure(moteur_dataset)"
      ]
    },
    {
      "cell_type": "code",
      "execution_count": null,
      "metadata": {
        "colab": {
          "base_uri": "https://localhost:8080/",
          "height": 417
        },
        "id": "8RkkAcQ7PFmH",
        "outputId": "8052b2e0-d489-4296-dec2-2cbafebcc7f8"
      },
      "outputs": [
        {
          "output_type": "execute_result",
          "data": {
            "text/plain": [
              "                       codeService   loginAgent network_groupe_code  spareOp4  \\\n",
              "0              SN_INIT_PAIEMENT_TP    776084616                  SN  CAISSIER   \n",
              "1       MYTP_PAIEMENTMARCHANDOMSN2    707217465                  SN  CAISSIER   \n",
              "2              SN_INIT_PAIEMENT_TP    776084616                  SN  CAISSIER   \n",
              "3                CI_CASHOUT_WIZALL     76200895               CITCH  CAISSIER   \n",
              "4              SN_INIT_PAIEMENT_TP    181838075                  SN  CAISSIER   \n",
              "...                            ...          ...                 ...       ...   \n",
              "296736               ML_FC_ENERGIA  22176644699                  ML  CAISSIER   \n",
              "296737               ML_FC_ENERGIA  22176644699                  ML  CAISSIER   \n",
              "296738               ML_FC_ENERGIA  22176644699                  ML  CAISSIER   \n",
              "296739               ML_FC_ENERGIA  22176644699                  ML  CAISSIER   \n",
              "296740               ML_FC_ENERGIA  22176644699                  ML  CAISSIER   \n",
              "\n",
              "        montant_total  montant_moyen_agent_par_jour         ecart heure  \n",
              "0            50250.00                  26491.674270  23758.325730    10  \n",
              "1              103.53                  14748.747164  14645.217164    12  \n",
              "2            50250.00                  26491.674270  23758.325730    14  \n",
              "3              200.00                    435.000000    235.000000    17  \n",
              "4             5025.00                   5025.000000      0.000000    17  \n",
              "...               ...                           ...           ...   ...  \n",
              "296736        1000.00                   3409.464745   2409.464745    23  \n",
              "296737        2500.00                   3409.464745    909.464745    23  \n",
              "296738        1500.00                   3409.464745   1909.464745    23  \n",
              "296739        1500.00                   3409.464745   1909.464745    23  \n",
              "296740        5000.00                   3409.464745   1590.535255    23  \n",
              "\n",
              "[296741 rows x 8 columns]"
            ],
            "text/html": [
              "\n",
              "  <div id=\"df-e38a44c2-0537-45cd-a248-85fc2e4b13eb\">\n",
              "    <div class=\"colab-df-container\">\n",
              "      <div>\n",
              "<style scoped>\n",
              "    .dataframe tbody tr th:only-of-type {\n",
              "        vertical-align: middle;\n",
              "    }\n",
              "\n",
              "    .dataframe tbody tr th {\n",
              "        vertical-align: top;\n",
              "    }\n",
              "\n",
              "    .dataframe thead th {\n",
              "        text-align: right;\n",
              "    }\n",
              "</style>\n",
              "<table border=\"1\" class=\"dataframe\">\n",
              "  <thead>\n",
              "    <tr style=\"text-align: right;\">\n",
              "      <th></th>\n",
              "      <th>codeService</th>\n",
              "      <th>loginAgent</th>\n",
              "      <th>network_groupe_code</th>\n",
              "      <th>spareOp4</th>\n",
              "      <th>montant_total</th>\n",
              "      <th>montant_moyen_agent_par_jour</th>\n",
              "      <th>ecart</th>\n",
              "      <th>heure</th>\n",
              "    </tr>\n",
              "  </thead>\n",
              "  <tbody>\n",
              "    <tr>\n",
              "      <th>0</th>\n",
              "      <td>SN_INIT_PAIEMENT_TP</td>\n",
              "      <td>776084616</td>\n",
              "      <td>SN</td>\n",
              "      <td>CAISSIER</td>\n",
              "      <td>50250.00</td>\n",
              "      <td>26491.674270</td>\n",
              "      <td>23758.325730</td>\n",
              "      <td>10</td>\n",
              "    </tr>\n",
              "    <tr>\n",
              "      <th>1</th>\n",
              "      <td>MYTP_PAIEMENTMARCHANDOMSN2</td>\n",
              "      <td>707217465</td>\n",
              "      <td>SN</td>\n",
              "      <td>CAISSIER</td>\n",
              "      <td>103.53</td>\n",
              "      <td>14748.747164</td>\n",
              "      <td>14645.217164</td>\n",
              "      <td>12</td>\n",
              "    </tr>\n",
              "    <tr>\n",
              "      <th>2</th>\n",
              "      <td>SN_INIT_PAIEMENT_TP</td>\n",
              "      <td>776084616</td>\n",
              "      <td>SN</td>\n",
              "      <td>CAISSIER</td>\n",
              "      <td>50250.00</td>\n",
              "      <td>26491.674270</td>\n",
              "      <td>23758.325730</td>\n",
              "      <td>14</td>\n",
              "    </tr>\n",
              "    <tr>\n",
              "      <th>3</th>\n",
              "      <td>CI_CASHOUT_WIZALL</td>\n",
              "      <td>76200895</td>\n",
              "      <td>CITCH</td>\n",
              "      <td>CAISSIER</td>\n",
              "      <td>200.00</td>\n",
              "      <td>435.000000</td>\n",
              "      <td>235.000000</td>\n",
              "      <td>17</td>\n",
              "    </tr>\n",
              "    <tr>\n",
              "      <th>4</th>\n",
              "      <td>SN_INIT_PAIEMENT_TP</td>\n",
              "      <td>181838075</td>\n",
              "      <td>SN</td>\n",
              "      <td>CAISSIER</td>\n",
              "      <td>5025.00</td>\n",
              "      <td>5025.000000</td>\n",
              "      <td>0.000000</td>\n",
              "      <td>17</td>\n",
              "    </tr>\n",
              "    <tr>\n",
              "      <th>...</th>\n",
              "      <td>...</td>\n",
              "      <td>...</td>\n",
              "      <td>...</td>\n",
              "      <td>...</td>\n",
              "      <td>...</td>\n",
              "      <td>...</td>\n",
              "      <td>...</td>\n",
              "      <td>...</td>\n",
              "    </tr>\n",
              "    <tr>\n",
              "      <th>296736</th>\n",
              "      <td>ML_FC_ENERGIA</td>\n",
              "      <td>22176644699</td>\n",
              "      <td>ML</td>\n",
              "      <td>CAISSIER</td>\n",
              "      <td>1000.00</td>\n",
              "      <td>3409.464745</td>\n",
              "      <td>2409.464745</td>\n",
              "      <td>23</td>\n",
              "    </tr>\n",
              "    <tr>\n",
              "      <th>296737</th>\n",
              "      <td>ML_FC_ENERGIA</td>\n",
              "      <td>22176644699</td>\n",
              "      <td>ML</td>\n",
              "      <td>CAISSIER</td>\n",
              "      <td>2500.00</td>\n",
              "      <td>3409.464745</td>\n",
              "      <td>909.464745</td>\n",
              "      <td>23</td>\n",
              "    </tr>\n",
              "    <tr>\n",
              "      <th>296738</th>\n",
              "      <td>ML_FC_ENERGIA</td>\n",
              "      <td>22176644699</td>\n",
              "      <td>ML</td>\n",
              "      <td>CAISSIER</td>\n",
              "      <td>1500.00</td>\n",
              "      <td>3409.464745</td>\n",
              "      <td>1909.464745</td>\n",
              "      <td>23</td>\n",
              "    </tr>\n",
              "    <tr>\n",
              "      <th>296739</th>\n",
              "      <td>ML_FC_ENERGIA</td>\n",
              "      <td>22176644699</td>\n",
              "      <td>ML</td>\n",
              "      <td>CAISSIER</td>\n",
              "      <td>1500.00</td>\n",
              "      <td>3409.464745</td>\n",
              "      <td>1909.464745</td>\n",
              "      <td>23</td>\n",
              "    </tr>\n",
              "    <tr>\n",
              "      <th>296740</th>\n",
              "      <td>ML_FC_ENERGIA</td>\n",
              "      <td>22176644699</td>\n",
              "      <td>ML</td>\n",
              "      <td>CAISSIER</td>\n",
              "      <td>5000.00</td>\n",
              "      <td>3409.464745</td>\n",
              "      <td>1590.535255</td>\n",
              "      <td>23</td>\n",
              "    </tr>\n",
              "  </tbody>\n",
              "</table>\n",
              "<p>296741 rows × 8 columns</p>\n",
              "</div>\n",
              "      <button class=\"colab-df-convert\" onclick=\"convertToInteractive('df-e38a44c2-0537-45cd-a248-85fc2e4b13eb')\"\n",
              "              title=\"Convert this dataframe to an interactive table.\"\n",
              "              style=\"display:none;\">\n",
              "        \n",
              "  <svg xmlns=\"http://www.w3.org/2000/svg\" height=\"24px\"viewBox=\"0 0 24 24\"\n",
              "       width=\"24px\">\n",
              "    <path d=\"M0 0h24v24H0V0z\" fill=\"none\"/>\n",
              "    <path d=\"M18.56 5.44l.94 2.06.94-2.06 2.06-.94-2.06-.94-.94-2.06-.94 2.06-2.06.94zm-11 1L8.5 8.5l.94-2.06 2.06-.94-2.06-.94L8.5 2.5l-.94 2.06-2.06.94zm10 10l.94 2.06.94-2.06 2.06-.94-2.06-.94-.94-2.06-.94 2.06-2.06.94z\"/><path d=\"M17.41 7.96l-1.37-1.37c-.4-.4-.92-.59-1.43-.59-.52 0-1.04.2-1.43.59L10.3 9.45l-7.72 7.72c-.78.78-.78 2.05 0 2.83L4 21.41c.39.39.9.59 1.41.59.51 0 1.02-.2 1.41-.59l7.78-7.78 2.81-2.81c.8-.78.8-2.07 0-2.86zM5.41 20L4 18.59l7.72-7.72 1.47 1.35L5.41 20z\"/>\n",
              "  </svg>\n",
              "      </button>\n",
              "      \n",
              "  <style>\n",
              "    .colab-df-container {\n",
              "      display:flex;\n",
              "      flex-wrap:wrap;\n",
              "      gap: 12px;\n",
              "    }\n",
              "\n",
              "    .colab-df-convert {\n",
              "      background-color: #E8F0FE;\n",
              "      border: none;\n",
              "      border-radius: 50%;\n",
              "      cursor: pointer;\n",
              "      display: none;\n",
              "      fill: #1967D2;\n",
              "      height: 32px;\n",
              "      padding: 0 0 0 0;\n",
              "      width: 32px;\n",
              "    }\n",
              "\n",
              "    .colab-df-convert:hover {\n",
              "      background-color: #E2EBFA;\n",
              "      box-shadow: 0px 1px 2px rgba(60, 64, 67, 0.3), 0px 1px 3px 1px rgba(60, 64, 67, 0.15);\n",
              "      fill: #174EA6;\n",
              "    }\n",
              "\n",
              "    [theme=dark] .colab-df-convert {\n",
              "      background-color: #3B4455;\n",
              "      fill: #D2E3FC;\n",
              "    }\n",
              "\n",
              "    [theme=dark] .colab-df-convert:hover {\n",
              "      background-color: #434B5C;\n",
              "      box-shadow: 0px 1px 3px 1px rgba(0, 0, 0, 0.15);\n",
              "      filter: drop-shadow(0px 1px 2px rgba(0, 0, 0, 0.3));\n",
              "      fill: #FFFFFF;\n",
              "    }\n",
              "  </style>\n",
              "\n",
              "      <script>\n",
              "        const buttonEl =\n",
              "          document.querySelector('#df-e38a44c2-0537-45cd-a248-85fc2e4b13eb button.colab-df-convert');\n",
              "        buttonEl.style.display =\n",
              "          google.colab.kernel.accessAllowed ? 'block' : 'none';\n",
              "\n",
              "        async function convertToInteractive(key) {\n",
              "          const element = document.querySelector('#df-e38a44c2-0537-45cd-a248-85fc2e4b13eb');\n",
              "          const dataTable =\n",
              "            await google.colab.kernel.invokeFunction('convertToInteractive',\n",
              "                                                     [key], {});\n",
              "          if (!dataTable) return;\n",
              "\n",
              "          const docLinkHtml = 'Like what you see? Visit the ' +\n",
              "            '<a target=\"_blank\" href=https://colab.research.google.com/notebooks/data_table.ipynb>data table notebook</a>'\n",
              "            + ' to learn more about interactive tables.';\n",
              "          element.innerHTML = '';\n",
              "          dataTable['output_type'] = 'display_data';\n",
              "          await google.colab.output.renderOutput(dataTable, element);\n",
              "          const docLink = document.createElement('div');\n",
              "          docLink.innerHTML = docLinkHtml;\n",
              "          element.appendChild(docLink);\n",
              "        }\n",
              "      </script>\n",
              "    </div>\n",
              "  </div>\n",
              "  "
            ]
          },
          "metadata": {},
          "execution_count": 26
        }
      ],
      "source": [
        "moteur_dataset"
      ]
    },
    {
      "cell_type": "markdown",
      "metadata": {
        "id": "xxhzNHcuaGMt"
      },
      "source": [
        "**Transformer les montants**"
      ]
    },
    {
      "cell_type": "code",
      "execution_count": null,
      "metadata": {
        "id": "r0S_tXT2b5_B"
      },
      "outputs": [],
      "source": [
        "def transform_montant(dataset,col,liste):\n",
        "  a =  dataset[col].quantile(liste).to_frame()\n",
        "  q1,q2,q3 = a[col].to_list()\n",
        "  dataset[col] = np.where(dataset[col]<q1,'faible',np.where(dataset[col]<q2,'moyen',\n",
        "                                                            np.where(dataset[col]<q3,'elevé','très elevé')))\n",
        "  return dataset\n",
        ""
      ]
    },
    {
      "cell_type": "code",
      "execution_count": null,
      "metadata": {
        "id": "kHAxEtlIy3f6"
      },
      "outputs": [],
      "source": [
        "listq1 = [0.75, 0.85,0.95]\n",
        "listq2 = [0.50, 0.75,0.95]\n",
        "moteur_dataset = transform_montant(moteur_dataset,'montant_total',listq1)\n",
        "moteur_dataset = transform_montant(moteur_dataset,'montant_moyen_agent_par_jour',listq2)"
      ]
    },
    {
      "cell_type": "markdown",
      "metadata": {
        "id": "XTuXgDDaaYmI"
      },
      "source": [
        "**Transformer l'heure**"
      ]
    },
    {
      "cell_type": "code",
      "execution_count": null,
      "metadata": {
        "id": "Gy06BEV3aDFh"
      },
      "outputs": [],
      "source": [
        "def transHeure(dataset,col):\n",
        "  dataset = dataset.astype({\"heure\": int}, errors='raise')\n",
        "  dataset[col] = np.where(dataset[col]<8,'fermeture',np.where(dataset[col]<16,'journee',\n",
        "                                                            np.where(dataset[col]<20,'soir','nuit')))\n",
        "  return dataset"
      ]
    },
    {
      "cell_type": "code",
      "execution_count": null,
      "metadata": {
        "id": "S5yTRWMddOnk"
      },
      "outputs": [],
      "source": [
        "moteur_dataset = transHeure(moteur_dataset,'heure')"
      ]
    },
    {
      "cell_type": "code",
      "execution_count": null,
      "metadata": {
        "colab": {
          "base_uri": "https://localhost:8080/"
        },
        "id": "bzUmHMHuZu26",
        "outputId": "84d6032d-d284-4d3f-877c-bee7c39413ef"
      },
      "outputs": [
        {
          "output_type": "stream",
          "name": "stderr",
          "text": [
            "/usr/local/lib/python3.7/dist-packages/ipykernel_launcher.py:1: FutureWarning: In a future version of pandas all arguments of DataFrame.drop except for the argument 'labels' will be keyword-only\n",
            "  \"\"\"Entry point for launching an IPython kernel.\n"
          ]
        }
      ],
      "source": [
        "moteur_dataset.drop('ecart',1,inplace=True)"
      ]
    },
    {
      "cell_type": "code",
      "execution_count": null,
      "metadata": {
        "colab": {
          "base_uri": "https://localhost:8080/"
        },
        "id": "9ro-pQseYIkn",
        "outputId": "d718a2dd-6ab0-4dd9-a51c-f9de4721fcd1"
      },
      "outputs": [
        {
          "output_type": "execute_result",
          "data": {
            "text/plain": [
              "0           776084616\n",
              "1           707217465\n",
              "2           776084616\n",
              "3            76200895\n",
              "4           181838075\n",
              "             ...     \n",
              "296736    22176644699\n",
              "296737    22176644699\n",
              "296738    22176644699\n",
              "296739    22176644699\n",
              "296740    22176644699\n",
              "Name: loginAgent, Length: 296741, dtype: object"
            ]
          },
          "metadata": {},
          "execution_count": 32
        }
      ],
      "source": [
        "moteur_dataset['loginAgent'].astype(str)"
      ]
    },
    {
      "cell_type": "code",
      "execution_count": null,
      "metadata": {
        "id": "tIMsltuEJsN_"
      },
      "outputs": [],
      "source": [
        "moteur_dataset['montant_moyen_agent_par_jour'] = moteur_dataset['montant_moyen_agent_par_jour'].apply(lambda x: 'M_'+x)"
      ]
    },
    {
      "cell_type": "code",
      "execution_count": null,
      "metadata": {
        "id": "08stM2_fdq5u"
      },
      "outputs": [],
      "source": [
        "from mlxtend.preprocessing import TransactionEncoder\n",
        "from mlxtend.frequent_patterns import apriori,association_rules\n",
        "moteur_dataset['loginAgent']=moteur_dataset['loginAgent'].astype('string')"
      ]
    },
    {
      "cell_type": "code",
      "source": [
        "moteur_dataset.shape"
      ],
      "metadata": {
        "colab": {
          "base_uri": "https://localhost:8080/"
        },
        "id": "K_PRlxxx9TaP",
        "outputId": "0daa2c6f-ac52-4e27-cb4b-9429d67df9eb"
      },
      "execution_count": null,
      "outputs": [
        {
          "output_type": "execute_result",
          "data": {
            "text/plain": [
              "(296741, 7)"
            ]
          },
          "metadata": {},
          "execution_count": 35
        }
      ]
    },
    {
      "cell_type": "code",
      "execution_count": null,
      "metadata": {
        "id": "C8LKoWlPdrM_",
        "colab": {
          "base_uri": "https://localhost:8080/",
          "height": 106
        },
        "outputId": "46fc4988-281d-4964-c8b3-6e666ed0c5b4"
      },
      "outputs": [
        {
          "output_type": "execute_result",
          "data": {
            "text/plain": [
              "'data_l = moteur_dataset[moteur_dataset[\"loginAgent\"]==\\'784570193\\']\\nlist_l = data_l.values.tolist()\\nte = TransactionEncoder()\\nte_ary = te.fit(list_l).transform(list_l)\\ndf = pd.DataFrame(te_ary, columns=te.columns_)\\nfrq_items = apriori(df, min_support=0.03, use_colnames=True)\\nrules = association_rules(frq_items, metric =\"lift\", min_threshold = 1) \\nrules = rules.sort_values([\\'confidence\\', \\'lift\\'], ascending =[False, False]) \\nrules[\\'length\\'] =rules[\\'consequents\\'].apply(lambda x: len(x))\\na = rules[(rules[\"length\"]==6) & (rules[\\'antecedents\\'].apply(lambda x: \\'784570193\\' in x))]\\n#frequent_itemsets[\\'length\\'] = frequent_itemsets[\\'itemsets\\'].apply(lambda x: len(x))\\n#frequent_itemsets'"
            ],
            "application/vnd.google.colaboratory.intrinsic+json": {
              "type": "string"
            }
          },
          "metadata": {},
          "execution_count": 36
        }
      ],
      "source": [
        "\"\"\"data_l = moteur_dataset[moteur_dataset[\"loginAgent\"]=='784570193']\n",
        "list_l = data_l.values.tolist()\n",
        "te = TransactionEncoder()\n",
        "te_ary = te.fit(list_l).transform(list_l)\n",
        "df = pd.DataFrame(te_ary, columns=te.columns_)\n",
        "frq_items = apriori(df, min_support=0.03, use_colnames=True)\n",
        "rules = association_rules(frq_items, metric =\"lift\", min_threshold = 1)\n",
        "rules = rules.sort_values(['confidence', 'lift'], ascending =[False, False])\n",
        "rules['length'] =rules['consequents'].apply(lambda x: len(x))\n",
        "a = rules[(rules[\"length\"]==6) & (rules['antecedents'].apply(lambda x: '784570193' in x))]\n",
        "#frequent_itemsets['length'] = frequent_itemsets['itemsets'].apply(lambda x: len(x))\n",
        "#frequent_itemsets\"\"\""
      ]
    },
    {
      "cell_type": "code",
      "execution_count": null,
      "metadata": {
        "colab": {
          "base_uri": "https://localhost:8080/",
          "height": 124
        },
        "id": "XGHbkLNZFXh4",
        "outputId": "677a96fc-6022-4bce-ebb2-4673210eca53"
      },
      "outputs": [
        {
          "output_type": "execute_result",
          "data": {
            "text/plain": [
              "'#Boucler apriori sur les agents\\nlistLogin = dataset_moteur[\\'loginAgent\\'].unique()\\nrules_df  = pd.DataFrame()\\nfor log in listLogin :\\n  #print(log)\\n  data_l = moteur_dataset[moteur_dataset[\"loginAgent\"]==log]\\n  list_l = data_l.values.tolist()\\n  te = TransactionEncoder()\\n  te_ary = te.fit(list_l).transform(list_l)\\n  df = pd.DataFrame(te_ary, columns=te.columns_)\\n  frq_items = apriori(df, min_support=0.01, use_colnames=True)\\n  rules = association_rules(frq_items, metric =\"lift\", min_threshold = 1) \\n  rules = rules.sort_values([\\'confidence\\', \\'lift\\'], ascending =[False, False]) \\n  rules[\\'length\\'] =rules[\\'consequents\\'].apply(lambda x: len(x))\\n  a =rules[(rules[\"length\"]==6) & (rules[\\'antecedents\\'].apply(lambda x: log in x))]\\n  rules_df = rules_df.append(a, ignore_index=True)\\n  rules_df.to_csv(\"rules_1.csv\")'"
            ],
            "application/vnd.google.colaboratory.intrinsic+json": {
              "type": "string"
            }
          },
          "metadata": {},
          "execution_count": 37
        }
      ],
      "source": [
        "\"\"\"#Boucler apriori sur les agents\n",
        "listLogin = dataset_moteur['loginAgent'].unique()\n",
        "rules_df  = pd.DataFrame()\n",
        "for log in listLogin :\n",
        "  #print(log)\n",
        "  data_l = moteur_dataset[moteur_dataset[\"loginAgent\"]==log]\n",
        "  list_l = data_l.values.tolist()\n",
        "  te = TransactionEncoder()\n",
        "  te_ary = te.fit(list_l).transform(list_l)\n",
        "  df = pd.DataFrame(te_ary, columns=te.columns_)\n",
        "  frq_items = apriori(df, min_support=0.01, use_colnames=True)\n",
        "  rules = association_rules(frq_items, metric =\"lift\", min_threshold = 1)\n",
        "  rules = rules.sort_values(['confidence', 'lift'], ascending =[False, False])\n",
        "  rules['length'] =rules['consequents'].apply(lambda x: len(x))\n",
        "  a =rules[(rules[\"length\"]==6) & (rules['antecedents'].apply(lambda x: log in x))]\n",
        "  rules_df = rules_df.append(a, ignore_index=True)\n",
        "  rules_df.to_csv(\"rules_1.csv\")\"\"\""
      ]
    },
    {
      "cell_type": "code",
      "execution_count": null,
      "metadata": {
        "id": "MOdLnJZNFXup"
      },
      "outputs": [],
      "source": [
        "r =pd.read_csv(\"rules_1.csv\")"
      ]
    },
    {
      "cell_type": "code",
      "source": [
        "r"
      ],
      "metadata": {
        "colab": {
          "base_uri": "https://localhost:8080/",
          "height": 511
        },
        "id": "Idf9jN6xsR41",
        "outputId": "ebfc0418-f0c6-40f4-8f35-16f9ba049eb0"
      },
      "execution_count": null,
      "outputs": [
        {
          "output_type": "execute_result",
          "data": {
            "text/plain": [
              "       Unnamed: 0                antecedents  \\\n",
              "0               0   frozenset({'776084616'})   \n",
              "1               1   frozenset({'776084616'})   \n",
              "2               2   frozenset({'776084616'})   \n",
              "3               3   frozenset({'776084616'})   \n",
              "4               4   frozenset({'776084616'})   \n",
              "...           ...                        ...   \n",
              "56604       56604  frozenset({'1545680451'})   \n",
              "56605       56605  frozenset({'1140119168'})   \n",
              "56606       56606   frozenset({'682607985'})   \n",
              "56607       56607   frozenset({'771817833'})   \n",
              "56608       56608    frozenset({'27000062'})   \n",
              "\n",
              "                                             consequents  antecedent support  \\\n",
              "0      frozenset({'SN', 'CAISSIER', 'faible', 'SN_INI...                 1.0   \n",
              "1      frozenset({'SN', 'CAISSIER', 'faible', 'SN_INI...                 1.0   \n",
              "2      frozenset({'SN', 'CAISSIER', 'faible', 'SN_INI...                 1.0   \n",
              "3      frozenset({'PAIEMENTMARCHANDOMSN2', 'SN', 'CAI...                 1.0   \n",
              "4      frozenset({'SN', 'CAISSIER', 'faible', 'SN_INI...                 1.0   \n",
              "...                                                  ...                 ...   \n",
              "56604  frozenset({'M_faible', 'CAISSIER', 'faible', '...                 1.0   \n",
              "56605  frozenset({'M_faible', 'CAISSIER', 'faible', '...                 1.0   \n",
              "56606  frozenset({'M_faible', 'CM', 'CAISSIER', 'faib...                 1.0   \n",
              "56607  frozenset({'CASHINOM', 'SN', 'CAISSIER', 'nuit...                 1.0   \n",
              "56608  frozenset({'ML_AIRTIME_TELECEL', 'ML', 'ITINER...                 1.0   \n",
              "\n",
              "       consequent support   support  confidence  lift  leverage  conviction  \\\n",
              "0                0.337591  0.337591    0.337591   1.0       0.0         1.0   \n",
              "1                0.226277  0.226277    0.226277   1.0       0.0         1.0   \n",
              "2                0.100365  0.100365    0.100365   1.0       0.0         1.0   \n",
              "3                0.093066  0.093066    0.093066   1.0       0.0         1.0   \n",
              "4                0.085766  0.085766    0.085766   1.0       0.0         1.0   \n",
              "...                   ...       ...         ...   ...       ...         ...   \n",
              "56604            1.000000  1.000000    1.000000   1.0       0.0         inf   \n",
              "56605            1.000000  1.000000    1.000000   1.0       0.0         inf   \n",
              "56606            1.000000  1.000000    1.000000   1.0       0.0         inf   \n",
              "56607            1.000000  1.000000    1.000000   1.0       0.0         inf   \n",
              "56608            1.000000  1.000000    1.000000   1.0       0.0         inf   \n",
              "\n",
              "       length  \n",
              "0           6  \n",
              "1           6  \n",
              "2           6  \n",
              "3           6  \n",
              "4           6  \n",
              "...       ...  \n",
              "56604       6  \n",
              "56605       6  \n",
              "56606       6  \n",
              "56607       6  \n",
              "56608       6  \n",
              "\n",
              "[56609 rows x 11 columns]"
            ],
            "text/html": [
              "\n",
              "  <div id=\"df-4038299c-4463-4f61-acb4-f670c3731f93\">\n",
              "    <div class=\"colab-df-container\">\n",
              "      <div>\n",
              "<style scoped>\n",
              "    .dataframe tbody tr th:only-of-type {\n",
              "        vertical-align: middle;\n",
              "    }\n",
              "\n",
              "    .dataframe tbody tr th {\n",
              "        vertical-align: top;\n",
              "    }\n",
              "\n",
              "    .dataframe thead th {\n",
              "        text-align: right;\n",
              "    }\n",
              "</style>\n",
              "<table border=\"1\" class=\"dataframe\">\n",
              "  <thead>\n",
              "    <tr style=\"text-align: right;\">\n",
              "      <th></th>\n",
              "      <th>Unnamed: 0</th>\n",
              "      <th>antecedents</th>\n",
              "      <th>consequents</th>\n",
              "      <th>antecedent support</th>\n",
              "      <th>consequent support</th>\n",
              "      <th>support</th>\n",
              "      <th>confidence</th>\n",
              "      <th>lift</th>\n",
              "      <th>leverage</th>\n",
              "      <th>conviction</th>\n",
              "      <th>length</th>\n",
              "    </tr>\n",
              "  </thead>\n",
              "  <tbody>\n",
              "    <tr>\n",
              "      <th>0</th>\n",
              "      <td>0</td>\n",
              "      <td>frozenset({'776084616'})</td>\n",
              "      <td>frozenset({'SN', 'CAISSIER', 'faible', 'SN_INI...</td>\n",
              "      <td>1.0</td>\n",
              "      <td>0.337591</td>\n",
              "      <td>0.337591</td>\n",
              "      <td>0.337591</td>\n",
              "      <td>1.0</td>\n",
              "      <td>0.0</td>\n",
              "      <td>1.0</td>\n",
              "      <td>6</td>\n",
              "    </tr>\n",
              "    <tr>\n",
              "      <th>1</th>\n",
              "      <td>1</td>\n",
              "      <td>frozenset({'776084616'})</td>\n",
              "      <td>frozenset({'SN', 'CAISSIER', 'faible', 'SN_INI...</td>\n",
              "      <td>1.0</td>\n",
              "      <td>0.226277</td>\n",
              "      <td>0.226277</td>\n",
              "      <td>0.226277</td>\n",
              "      <td>1.0</td>\n",
              "      <td>0.0</td>\n",
              "      <td>1.0</td>\n",
              "      <td>6</td>\n",
              "    </tr>\n",
              "    <tr>\n",
              "      <th>2</th>\n",
              "      <td>2</td>\n",
              "      <td>frozenset({'776084616'})</td>\n",
              "      <td>frozenset({'SN', 'CAISSIER', 'faible', 'SN_INI...</td>\n",
              "      <td>1.0</td>\n",
              "      <td>0.100365</td>\n",
              "      <td>0.100365</td>\n",
              "      <td>0.100365</td>\n",
              "      <td>1.0</td>\n",
              "      <td>0.0</td>\n",
              "      <td>1.0</td>\n",
              "      <td>6</td>\n",
              "    </tr>\n",
              "    <tr>\n",
              "      <th>3</th>\n",
              "      <td>3</td>\n",
              "      <td>frozenset({'776084616'})</td>\n",
              "      <td>frozenset({'PAIEMENTMARCHANDOMSN2', 'SN', 'CAI...</td>\n",
              "      <td>1.0</td>\n",
              "      <td>0.093066</td>\n",
              "      <td>0.093066</td>\n",
              "      <td>0.093066</td>\n",
              "      <td>1.0</td>\n",
              "      <td>0.0</td>\n",
              "      <td>1.0</td>\n",
              "      <td>6</td>\n",
              "    </tr>\n",
              "    <tr>\n",
              "      <th>4</th>\n",
              "      <td>4</td>\n",
              "      <td>frozenset({'776084616'})</td>\n",
              "      <td>frozenset({'SN', 'CAISSIER', 'faible', 'SN_INI...</td>\n",
              "      <td>1.0</td>\n",
              "      <td>0.085766</td>\n",
              "      <td>0.085766</td>\n",
              "      <td>0.085766</td>\n",
              "      <td>1.0</td>\n",
              "      <td>0.0</td>\n",
              "      <td>1.0</td>\n",
              "      <td>6</td>\n",
              "    </tr>\n",
              "    <tr>\n",
              "      <th>...</th>\n",
              "      <td>...</td>\n",
              "      <td>...</td>\n",
              "      <td>...</td>\n",
              "      <td>...</td>\n",
              "      <td>...</td>\n",
              "      <td>...</td>\n",
              "      <td>...</td>\n",
              "      <td>...</td>\n",
              "      <td>...</td>\n",
              "      <td>...</td>\n",
              "      <td>...</td>\n",
              "    </tr>\n",
              "    <tr>\n",
              "      <th>56604</th>\n",
              "      <td>56604</td>\n",
              "      <td>frozenset({'1545680451'})</td>\n",
              "      <td>frozenset({'M_faible', 'CAISSIER', 'faible', '...</td>\n",
              "      <td>1.0</td>\n",
              "      <td>1.000000</td>\n",
              "      <td>1.000000</td>\n",
              "      <td>1.000000</td>\n",
              "      <td>1.0</td>\n",
              "      <td>0.0</td>\n",
              "      <td>inf</td>\n",
              "      <td>6</td>\n",
              "    </tr>\n",
              "    <tr>\n",
              "      <th>56605</th>\n",
              "      <td>56605</td>\n",
              "      <td>frozenset({'1140119168'})</td>\n",
              "      <td>frozenset({'M_faible', 'CAISSIER', 'faible', '...</td>\n",
              "      <td>1.0</td>\n",
              "      <td>1.000000</td>\n",
              "      <td>1.000000</td>\n",
              "      <td>1.000000</td>\n",
              "      <td>1.0</td>\n",
              "      <td>0.0</td>\n",
              "      <td>inf</td>\n",
              "      <td>6</td>\n",
              "    </tr>\n",
              "    <tr>\n",
              "      <th>56606</th>\n",
              "      <td>56606</td>\n",
              "      <td>frozenset({'682607985'})</td>\n",
              "      <td>frozenset({'M_faible', 'CM', 'CAISSIER', 'faib...</td>\n",
              "      <td>1.0</td>\n",
              "      <td>1.000000</td>\n",
              "      <td>1.000000</td>\n",
              "      <td>1.000000</td>\n",
              "      <td>1.0</td>\n",
              "      <td>0.0</td>\n",
              "      <td>inf</td>\n",
              "      <td>6</td>\n",
              "    </tr>\n",
              "    <tr>\n",
              "      <th>56607</th>\n",
              "      <td>56607</td>\n",
              "      <td>frozenset({'771817833'})</td>\n",
              "      <td>frozenset({'CASHINOM', 'SN', 'CAISSIER', 'nuit...</td>\n",
              "      <td>1.0</td>\n",
              "      <td>1.000000</td>\n",
              "      <td>1.000000</td>\n",
              "      <td>1.000000</td>\n",
              "      <td>1.0</td>\n",
              "      <td>0.0</td>\n",
              "      <td>inf</td>\n",
              "      <td>6</td>\n",
              "    </tr>\n",
              "    <tr>\n",
              "      <th>56608</th>\n",
              "      <td>56608</td>\n",
              "      <td>frozenset({'27000062'})</td>\n",
              "      <td>frozenset({'ML_AIRTIME_TELECEL', 'ML', 'ITINER...</td>\n",
              "      <td>1.0</td>\n",
              "      <td>1.000000</td>\n",
              "      <td>1.000000</td>\n",
              "      <td>1.000000</td>\n",
              "      <td>1.0</td>\n",
              "      <td>0.0</td>\n",
              "      <td>inf</td>\n",
              "      <td>6</td>\n",
              "    </tr>\n",
              "  </tbody>\n",
              "</table>\n",
              "<p>56609 rows × 11 columns</p>\n",
              "</div>\n",
              "      <button class=\"colab-df-convert\" onclick=\"convertToInteractive('df-4038299c-4463-4f61-acb4-f670c3731f93')\"\n",
              "              title=\"Convert this dataframe to an interactive table.\"\n",
              "              style=\"display:none;\">\n",
              "        \n",
              "  <svg xmlns=\"http://www.w3.org/2000/svg\" height=\"24px\"viewBox=\"0 0 24 24\"\n",
              "       width=\"24px\">\n",
              "    <path d=\"M0 0h24v24H0V0z\" fill=\"none\"/>\n",
              "    <path d=\"M18.56 5.44l.94 2.06.94-2.06 2.06-.94-2.06-.94-.94-2.06-.94 2.06-2.06.94zm-11 1L8.5 8.5l.94-2.06 2.06-.94-2.06-.94L8.5 2.5l-.94 2.06-2.06.94zm10 10l.94 2.06.94-2.06 2.06-.94-2.06-.94-.94-2.06-.94 2.06-2.06.94z\"/><path d=\"M17.41 7.96l-1.37-1.37c-.4-.4-.92-.59-1.43-.59-.52 0-1.04.2-1.43.59L10.3 9.45l-7.72 7.72c-.78.78-.78 2.05 0 2.83L4 21.41c.39.39.9.59 1.41.59.51 0 1.02-.2 1.41-.59l7.78-7.78 2.81-2.81c.8-.78.8-2.07 0-2.86zM5.41 20L4 18.59l7.72-7.72 1.47 1.35L5.41 20z\"/>\n",
              "  </svg>\n",
              "      </button>\n",
              "      \n",
              "  <style>\n",
              "    .colab-df-container {\n",
              "      display:flex;\n",
              "      flex-wrap:wrap;\n",
              "      gap: 12px;\n",
              "    }\n",
              "\n",
              "    .colab-df-convert {\n",
              "      background-color: #E8F0FE;\n",
              "      border: none;\n",
              "      border-radius: 50%;\n",
              "      cursor: pointer;\n",
              "      display: none;\n",
              "      fill: #1967D2;\n",
              "      height: 32px;\n",
              "      padding: 0 0 0 0;\n",
              "      width: 32px;\n",
              "    }\n",
              "\n",
              "    .colab-df-convert:hover {\n",
              "      background-color: #E2EBFA;\n",
              "      box-shadow: 0px 1px 2px rgba(60, 64, 67, 0.3), 0px 1px 3px 1px rgba(60, 64, 67, 0.15);\n",
              "      fill: #174EA6;\n",
              "    }\n",
              "\n",
              "    [theme=dark] .colab-df-convert {\n",
              "      background-color: #3B4455;\n",
              "      fill: #D2E3FC;\n",
              "    }\n",
              "\n",
              "    [theme=dark] .colab-df-convert:hover {\n",
              "      background-color: #434B5C;\n",
              "      box-shadow: 0px 1px 3px 1px rgba(0, 0, 0, 0.15);\n",
              "      filter: drop-shadow(0px 1px 2px rgba(0, 0, 0, 0.3));\n",
              "      fill: #FFFFFF;\n",
              "    }\n",
              "  </style>\n",
              "\n",
              "      <script>\n",
              "        const buttonEl =\n",
              "          document.querySelector('#df-4038299c-4463-4f61-acb4-f670c3731f93 button.colab-df-convert');\n",
              "        buttonEl.style.display =\n",
              "          google.colab.kernel.accessAllowed ? 'block' : 'none';\n",
              "\n",
              "        async function convertToInteractive(key) {\n",
              "          const element = document.querySelector('#df-4038299c-4463-4f61-acb4-f670c3731f93');\n",
              "          const dataTable =\n",
              "            await google.colab.kernel.invokeFunction('convertToInteractive',\n",
              "                                                     [key], {});\n",
              "          if (!dataTable) return;\n",
              "\n",
              "          const docLinkHtml = 'Like what you see? Visit the ' +\n",
              "            '<a target=\"_blank\" href=https://colab.research.google.com/notebooks/data_table.ipynb>data table notebook</a>'\n",
              "            + ' to learn more about interactive tables.';\n",
              "          element.innerHTML = '';\n",
              "          dataTable['output_type'] = 'display_data';\n",
              "          await google.colab.output.renderOutput(dataTable, element);\n",
              "          const docLink = document.createElement('div');\n",
              "          docLink.innerHTML = docLinkHtml;\n",
              "          element.appendChild(docLink);\n",
              "        }\n",
              "      </script>\n",
              "    </div>\n",
              "  </div>\n",
              "  "
            ]
          },
          "metadata": {},
          "execution_count": 39
        }
      ]
    },
    {
      "cell_type": "markdown",
      "metadata": {
        "id": "QAt3Pw1dOpZq"
      },
      "source": [
        "# Partie3  :  Machine Learning"
      ]
    },
    {
      "cell_type": "code",
      "execution_count": null,
      "metadata": {
        "id": "T-49CgB4Hrdc"
      },
      "outputs": [],
      "source": [
        "#Librairie necessaire\n",
        "from sklearn.model_selection import train_test_split,GridSearchCV\n",
        "from sklearn.ensemble import IsolationForest\n",
        "from sklearn.pipeline import Pipeline\n",
        "from sklearn.preprocessing import LabelEncoder\n",
        "from sklearn.cluster import KMeans"
      ]
    },
    {
      "cell_type": "code",
      "execution_count": null,
      "metadata": {
        "colab": {
          "base_uri": "https://localhost:8080/"
        },
        "id": "TYDyDl6kN3fo",
        "outputId": "05cfcb42-177f-402c-c8bd-4644bed980e7"
      },
      "outputs": [
        {
          "output_type": "stream",
          "name": "stderr",
          "text": [
            "/usr/local/lib/python3.7/dist-packages/ipykernel_launcher.py:2: FutureWarning: In a future version of pandas all arguments of DataFrame.drop except for the argument 'labels' will be keyword-only\n",
            "  \n"
          ]
        }
      ],
      "source": [
        "final_ml_dataset  = format_dataset.copy()\n",
        "final_ml_dataset.drop(['token','date_trx'],1, inplace=True)"
      ]
    },
    {
      "cell_type": "code",
      "execution_count": null,
      "metadata": {
        "colab": {
          "base_uri": "https://localhost:8080/",
          "height": 481
        },
        "id": "anIo8YULGLxh",
        "outputId": "94d9e288-10f3-4989-e283-e6cf9beefe58"
      },
      "outputs": [
        {
          "output_type": "execute_result",
          "data": {
            "text/plain": [
              "       codeNetwork   codePDA codeSalePoint                 codeService  \\\n",
              "1             UCAD   PW90876     UCAD11281         SN_INIT_PAIEMENT_TP   \n",
              "2            MTPSN  PW132439    INTER11998  MYTP_PAIEMENTMARCHANDOMSN2   \n",
              "3             UCAD   PW90876     UCAD11281         SN_INIT_PAIEMENT_TP   \n",
              "4            ABCDE    CI2472     CIABD0956           CI_CASHOUT_WIZALL   \n",
              "5             UCAD  PWA55432     UCAD14351         SN_INIT_PAIEMENT_TP   \n",
              "...            ...       ...           ...                         ...   \n",
              "297032        WAVE  ML769810      WAVE5023               ML_FC_ENERGIA   \n",
              "297033        WAVE  ML769810      WAVE5023               ML_FC_ENERGIA   \n",
              "297034        WAVE  ML769810      WAVE5023               ML_FC_ENERGIA   \n",
              "297035        WAVE  ML769810      WAVE5023               ML_FC_ENERGIA   \n",
              "297036        WAVE  ML769810      WAVE5023               ML_FC_ENERGIA   \n",
              "\n",
              "         loginAgent                 type network_groupe_code  spareOp4  \\\n",
              "1         776084616  SN_INIT_PAIEMENT_TP                  SN  CAISSIER   \n",
              "2         707217465           PAIEMENTOM                  SN  CAISSIER   \n",
              "3         776084616  SN_INIT_PAIEMENT_TP                  SN  CAISSIER   \n",
              "4          76200895       CI_WIZALLMONEY               CITCH  CAISSIER   \n",
              "5         181838075  SN_INIT_PAIEMENT_TP                  SN  CAISSIER   \n",
              "...             ...                  ...                 ...       ...   \n",
              "297032  22176644699              ENERGIA                  ML  CAISSIER   \n",
              "297033  22176644699              ENERGIA                  ML  CAISSIER   \n",
              "297034  22176644699              ENERGIA                  ML  CAISSIER   \n",
              "297035  22176644699              ENERGIA                  ML  CAISSIER   \n",
              "297036  22176644699              ENERGIA                  ML  CAISSIER   \n",
              "\n",
              "       heure_trx  montant_total  \n",
              "1       10:44:30       50250.00  \n",
              "2       12:27:08         103.53  \n",
              "3       14:56:15       50250.00  \n",
              "4       17:10:27         200.00  \n",
              "5       17:15:06        5025.00  \n",
              "...          ...            ...  \n",
              "297032  23:59:07        1000.00  \n",
              "297033  23:59:22        2500.00  \n",
              "297034  23:59:23        1500.00  \n",
              "297035  23:59:25        1500.00  \n",
              "297036  23:59:57        5000.00  \n",
              "\n",
              "[296741 rows x 10 columns]"
            ],
            "text/html": [
              "\n",
              "  <div id=\"df-e29cb474-547a-4f6c-990c-c1dab164ce3d\">\n",
              "    <div class=\"colab-df-container\">\n",
              "      <div>\n",
              "<style scoped>\n",
              "    .dataframe tbody tr th:only-of-type {\n",
              "        vertical-align: middle;\n",
              "    }\n",
              "\n",
              "    .dataframe tbody tr th {\n",
              "        vertical-align: top;\n",
              "    }\n",
              "\n",
              "    .dataframe thead th {\n",
              "        text-align: right;\n",
              "    }\n",
              "</style>\n",
              "<table border=\"1\" class=\"dataframe\">\n",
              "  <thead>\n",
              "    <tr style=\"text-align: right;\">\n",
              "      <th></th>\n",
              "      <th>codeNetwork</th>\n",
              "      <th>codePDA</th>\n",
              "      <th>codeSalePoint</th>\n",
              "      <th>codeService</th>\n",
              "      <th>loginAgent</th>\n",
              "      <th>type</th>\n",
              "      <th>network_groupe_code</th>\n",
              "      <th>spareOp4</th>\n",
              "      <th>heure_trx</th>\n",
              "      <th>montant_total</th>\n",
              "    </tr>\n",
              "  </thead>\n",
              "  <tbody>\n",
              "    <tr>\n",
              "      <th>1</th>\n",
              "      <td>UCAD</td>\n",
              "      <td>PW90876</td>\n",
              "      <td>UCAD11281</td>\n",
              "      <td>SN_INIT_PAIEMENT_TP</td>\n",
              "      <td>776084616</td>\n",
              "      <td>SN_INIT_PAIEMENT_TP</td>\n",
              "      <td>SN</td>\n",
              "      <td>CAISSIER</td>\n",
              "      <td>10:44:30</td>\n",
              "      <td>50250.00</td>\n",
              "    </tr>\n",
              "    <tr>\n",
              "      <th>2</th>\n",
              "      <td>MTPSN</td>\n",
              "      <td>PW132439</td>\n",
              "      <td>INTER11998</td>\n",
              "      <td>MYTP_PAIEMENTMARCHANDOMSN2</td>\n",
              "      <td>707217465</td>\n",
              "      <td>PAIEMENTOM</td>\n",
              "      <td>SN</td>\n",
              "      <td>CAISSIER</td>\n",
              "      <td>12:27:08</td>\n",
              "      <td>103.53</td>\n",
              "    </tr>\n",
              "    <tr>\n",
              "      <th>3</th>\n",
              "      <td>UCAD</td>\n",
              "      <td>PW90876</td>\n",
              "      <td>UCAD11281</td>\n",
              "      <td>SN_INIT_PAIEMENT_TP</td>\n",
              "      <td>776084616</td>\n",
              "      <td>SN_INIT_PAIEMENT_TP</td>\n",
              "      <td>SN</td>\n",
              "      <td>CAISSIER</td>\n",
              "      <td>14:56:15</td>\n",
              "      <td>50250.00</td>\n",
              "    </tr>\n",
              "    <tr>\n",
              "      <th>4</th>\n",
              "      <td>ABCDE</td>\n",
              "      <td>CI2472</td>\n",
              "      <td>CIABD0956</td>\n",
              "      <td>CI_CASHOUT_WIZALL</td>\n",
              "      <td>76200895</td>\n",
              "      <td>CI_WIZALLMONEY</td>\n",
              "      <td>CITCH</td>\n",
              "      <td>CAISSIER</td>\n",
              "      <td>17:10:27</td>\n",
              "      <td>200.00</td>\n",
              "    </tr>\n",
              "    <tr>\n",
              "      <th>5</th>\n",
              "      <td>UCAD</td>\n",
              "      <td>PWA55432</td>\n",
              "      <td>UCAD14351</td>\n",
              "      <td>SN_INIT_PAIEMENT_TP</td>\n",
              "      <td>181838075</td>\n",
              "      <td>SN_INIT_PAIEMENT_TP</td>\n",
              "      <td>SN</td>\n",
              "      <td>CAISSIER</td>\n",
              "      <td>17:15:06</td>\n",
              "      <td>5025.00</td>\n",
              "    </tr>\n",
              "    <tr>\n",
              "      <th>...</th>\n",
              "      <td>...</td>\n",
              "      <td>...</td>\n",
              "      <td>...</td>\n",
              "      <td>...</td>\n",
              "      <td>...</td>\n",
              "      <td>...</td>\n",
              "      <td>...</td>\n",
              "      <td>...</td>\n",
              "      <td>...</td>\n",
              "      <td>...</td>\n",
              "    </tr>\n",
              "    <tr>\n",
              "      <th>297032</th>\n",
              "      <td>WAVE</td>\n",
              "      <td>ML769810</td>\n",
              "      <td>WAVE5023</td>\n",
              "      <td>ML_FC_ENERGIA</td>\n",
              "      <td>22176644699</td>\n",
              "      <td>ENERGIA</td>\n",
              "      <td>ML</td>\n",
              "      <td>CAISSIER</td>\n",
              "      <td>23:59:07</td>\n",
              "      <td>1000.00</td>\n",
              "    </tr>\n",
              "    <tr>\n",
              "      <th>297033</th>\n",
              "      <td>WAVE</td>\n",
              "      <td>ML769810</td>\n",
              "      <td>WAVE5023</td>\n",
              "      <td>ML_FC_ENERGIA</td>\n",
              "      <td>22176644699</td>\n",
              "      <td>ENERGIA</td>\n",
              "      <td>ML</td>\n",
              "      <td>CAISSIER</td>\n",
              "      <td>23:59:22</td>\n",
              "      <td>2500.00</td>\n",
              "    </tr>\n",
              "    <tr>\n",
              "      <th>297034</th>\n",
              "      <td>WAVE</td>\n",
              "      <td>ML769810</td>\n",
              "      <td>WAVE5023</td>\n",
              "      <td>ML_FC_ENERGIA</td>\n",
              "      <td>22176644699</td>\n",
              "      <td>ENERGIA</td>\n",
              "      <td>ML</td>\n",
              "      <td>CAISSIER</td>\n",
              "      <td>23:59:23</td>\n",
              "      <td>1500.00</td>\n",
              "    </tr>\n",
              "    <tr>\n",
              "      <th>297035</th>\n",
              "      <td>WAVE</td>\n",
              "      <td>ML769810</td>\n",
              "      <td>WAVE5023</td>\n",
              "      <td>ML_FC_ENERGIA</td>\n",
              "      <td>22176644699</td>\n",
              "      <td>ENERGIA</td>\n",
              "      <td>ML</td>\n",
              "      <td>CAISSIER</td>\n",
              "      <td>23:59:25</td>\n",
              "      <td>1500.00</td>\n",
              "    </tr>\n",
              "    <tr>\n",
              "      <th>297036</th>\n",
              "      <td>WAVE</td>\n",
              "      <td>ML769810</td>\n",
              "      <td>WAVE5023</td>\n",
              "      <td>ML_FC_ENERGIA</td>\n",
              "      <td>22176644699</td>\n",
              "      <td>ENERGIA</td>\n",
              "      <td>ML</td>\n",
              "      <td>CAISSIER</td>\n",
              "      <td>23:59:57</td>\n",
              "      <td>5000.00</td>\n",
              "    </tr>\n",
              "  </tbody>\n",
              "</table>\n",
              "<p>296741 rows × 10 columns</p>\n",
              "</div>\n",
              "      <button class=\"colab-df-convert\" onclick=\"convertToInteractive('df-e29cb474-547a-4f6c-990c-c1dab164ce3d')\"\n",
              "              title=\"Convert this dataframe to an interactive table.\"\n",
              "              style=\"display:none;\">\n",
              "        \n",
              "  <svg xmlns=\"http://www.w3.org/2000/svg\" height=\"24px\"viewBox=\"0 0 24 24\"\n",
              "       width=\"24px\">\n",
              "    <path d=\"M0 0h24v24H0V0z\" fill=\"none\"/>\n",
              "    <path d=\"M18.56 5.44l.94 2.06.94-2.06 2.06-.94-2.06-.94-.94-2.06-.94 2.06-2.06.94zm-11 1L8.5 8.5l.94-2.06 2.06-.94-2.06-.94L8.5 2.5l-.94 2.06-2.06.94zm10 10l.94 2.06.94-2.06 2.06-.94-2.06-.94-.94-2.06-.94 2.06-2.06.94z\"/><path d=\"M17.41 7.96l-1.37-1.37c-.4-.4-.92-.59-1.43-.59-.52 0-1.04.2-1.43.59L10.3 9.45l-7.72 7.72c-.78.78-.78 2.05 0 2.83L4 21.41c.39.39.9.59 1.41.59.51 0 1.02-.2 1.41-.59l7.78-7.78 2.81-2.81c.8-.78.8-2.07 0-2.86zM5.41 20L4 18.59l7.72-7.72 1.47 1.35L5.41 20z\"/>\n",
              "  </svg>\n",
              "      </button>\n",
              "      \n",
              "  <style>\n",
              "    .colab-df-container {\n",
              "      display:flex;\n",
              "      flex-wrap:wrap;\n",
              "      gap: 12px;\n",
              "    }\n",
              "\n",
              "    .colab-df-convert {\n",
              "      background-color: #E8F0FE;\n",
              "      border: none;\n",
              "      border-radius: 50%;\n",
              "      cursor: pointer;\n",
              "      display: none;\n",
              "      fill: #1967D2;\n",
              "      height: 32px;\n",
              "      padding: 0 0 0 0;\n",
              "      width: 32px;\n",
              "    }\n",
              "\n",
              "    .colab-df-convert:hover {\n",
              "      background-color: #E2EBFA;\n",
              "      box-shadow: 0px 1px 2px rgba(60, 64, 67, 0.3), 0px 1px 3px 1px rgba(60, 64, 67, 0.15);\n",
              "      fill: #174EA6;\n",
              "    }\n",
              "\n",
              "    [theme=dark] .colab-df-convert {\n",
              "      background-color: #3B4455;\n",
              "      fill: #D2E3FC;\n",
              "    }\n",
              "\n",
              "    [theme=dark] .colab-df-convert:hover {\n",
              "      background-color: #434B5C;\n",
              "      box-shadow: 0px 1px 3px 1px rgba(0, 0, 0, 0.15);\n",
              "      filter: drop-shadow(0px 1px 2px rgba(0, 0, 0, 0.3));\n",
              "      fill: #FFFFFF;\n",
              "    }\n",
              "  </style>\n",
              "\n",
              "      <script>\n",
              "        const buttonEl =\n",
              "          document.querySelector('#df-e29cb474-547a-4f6c-990c-c1dab164ce3d button.colab-df-convert');\n",
              "        buttonEl.style.display =\n",
              "          google.colab.kernel.accessAllowed ? 'block' : 'none';\n",
              "\n",
              "        async function convertToInteractive(key) {\n",
              "          const element = document.querySelector('#df-e29cb474-547a-4f6c-990c-c1dab164ce3d');\n",
              "          const dataTable =\n",
              "            await google.colab.kernel.invokeFunction('convertToInteractive',\n",
              "                                                     [key], {});\n",
              "          if (!dataTable) return;\n",
              "\n",
              "          const docLinkHtml = 'Like what you see? Visit the ' +\n",
              "            '<a target=\"_blank\" href=https://colab.research.google.com/notebooks/data_table.ipynb>data table notebook</a>'\n",
              "            + ' to learn more about interactive tables.';\n",
              "          element.innerHTML = '';\n",
              "          dataTable['output_type'] = 'display_data';\n",
              "          await google.colab.output.renderOutput(dataTable, element);\n",
              "          const docLink = document.createElement('div');\n",
              "          docLink.innerHTML = docLinkHtml;\n",
              "          element.appendChild(docLink);\n",
              "        }\n",
              "      </script>\n",
              "    </div>\n",
              "  </div>\n",
              "  "
            ]
          },
          "metadata": {},
          "execution_count": 39
        }
      ],
      "source": [
        "final_ml_dataset"
      ]
    },
    {
      "cell_type": "code",
      "execution_count": null,
      "metadata": {
        "colab": {
          "base_uri": "https://localhost:8080/"
        },
        "id": "DmwBljCSGo0f",
        "outputId": "a7f6f05b-0690-437d-8e44-60528dae32ed"
      },
      "outputs": [
        {
          "output_type": "stream",
          "name": "stdout",
          "text": [
            "<class 'pandas.core.frame.DataFrame'>\n",
            "Int64Index: 296741 entries, 1 to 297036\n",
            "Data columns (total 10 columns):\n",
            " #   Column               Non-Null Count   Dtype  \n",
            "---  ------               --------------   -----  \n",
            " 0   codeNetwork          296741 non-null  object \n",
            " 1   codePDA              296741 non-null  object \n",
            " 2   codeSalePoint        296741 non-null  object \n",
            " 3   codeService          296741 non-null  object \n",
            " 4   loginAgent           296741 non-null  object \n",
            " 5   type                 296741 non-null  object \n",
            " 6   network_groupe_code  296741 non-null  object \n",
            " 7   spareOp4             296741 non-null  object \n",
            " 8   heure_trx            296741 non-null  object \n",
            " 9   montant_total        296741 non-null  float64\n",
            "dtypes: float64(1), object(9)\n",
            "memory usage: 24.9+ MB\n"
          ]
        }
      ],
      "source": [
        "final_ml_dataset.info()"
      ]
    },
    {
      "cell_type": "code",
      "execution_count": null,
      "metadata": {
        "id": "v3lR5TFJh2CE"
      },
      "outputs": [],
      "source": [
        "final_ml_dataset['loginAgent']=final_ml_dataset['loginAgent'].astype(str)"
      ]
    },
    {
      "cell_type": "code",
      "source": [
        "dict_encoder = {}"
      ],
      "metadata": {
        "id": "BLUmYbpTsP0T"
      },
      "execution_count": null,
      "outputs": []
    },
    {
      "cell_type": "code",
      "execution_count": null,
      "metadata": {
        "id": "zSFHSK-_UroJ"
      },
      "outputs": [],
      "source": [
        "#Encodes les variables categorielles avec LabelEncoder\n",
        "def encode(dataset):\n",
        "  for name in dataset.columns:\n",
        "    if dataset[name].dtype == 'O' and name != \"heure_trx\":\n",
        "      clf = LabelEncoder()\n",
        "      dataset[name] = clf.fit_transform(dataset[name])\n",
        "      dict_encoder[name] = clf\n",
        "  return dataset, dict_encoder"
      ]
    },
    {
      "cell_type": "code",
      "execution_count": null,
      "metadata": {
        "id": "JofWPTvI5fv7"
      },
      "outputs": [],
      "source": [
        "#Encoder les heures\n",
        "def cos_encoding_hour(x):\n",
        "  return np.cos((x/24)*2*np.pi)\n",
        "#Encoder les minutes\n",
        "def cos_encoding_min(x):\n",
        "  return np.cos((x/60)*2*np.pi)\n",
        "#Fonction global\n",
        "def encode_time(dataset):\n",
        "  dataset[['heure','min','sec']] = dataset.heure_trx.str.split(\":\",expand=True)\n",
        "  dataset.drop(['heure_trx','sec'],1,inplace=True)\n",
        "  dataset['heure'] = dataset['heure'].astype(\"int64\").apply(cos_encoding_hour)\n",
        "  dataset['min'] = dataset['min'].astype(\"int64\").apply(cos_encoding_min)\n",
        "  return dataset"
      ]
    },
    {
      "cell_type": "code",
      "execution_count": null,
      "metadata": {
        "colab": {
          "base_uri": "https://localhost:8080/"
        },
        "id": "58jBAXMjT_a8",
        "outputId": "77111a4d-a606-4bb2-e274-6506af563906"
      },
      "outputs": [
        {
          "output_type": "stream",
          "name": "stderr",
          "text": [
            "/usr/local/lib/python3.7/dist-packages/ipykernel_launcher.py:10: FutureWarning: In a future version of pandas all arguments of DataFrame.drop except for the argument 'labels' will be keyword-only\n",
            "  # Remove the CWD from sys.path while we load stuff.\n"
          ]
        }
      ],
      "source": [
        "data  = final_ml_dataset.copy()\n",
        "result = encode(data)\n",
        "inter_ml_dataset = result[0]\n",
        "dict_encoder = result[1]\n",
        "dataset  = inter_ml_dataset.copy()\n",
        "encode_ml_dataset = encode_time(dataset)"
      ]
    },
    {
      "cell_type": "code",
      "execution_count": null,
      "metadata": {
        "colab": {
          "base_uri": "https://localhost:8080/",
          "height": 417
        },
        "id": "b4LBG1Edp2wG",
        "outputId": "1d2c5689-329b-4139-d482-d801f2767907"
      },
      "outputs": [
        {
          "output_type": "execute_result",
          "data": {
            "text/plain": [
              "        codeNetwork  codePDA  codeSalePoint  codeService  loginAgent  type  \\\n",
              "1               422    11377          10191          187        9350   119   \n",
              "2               293    11225           5453          152        6201   110   \n",
              "3               422    11377          10191          187        9350   119   \n",
              "4                 0      657            948           88        7265    25   \n",
              "5               422    11805          10192          187        1863   119   \n",
              "...             ...      ...            ...          ...         ...   ...   \n",
              "297032          435     2924          10288          138        2087    37   \n",
              "297033          435     2924          10288          138        2087    37   \n",
              "297034          435     2924          10288          138        2087    37   \n",
              "297035          435     2924          10288          138        2087    37   \n",
              "297036          435     2924          10288          138        2087    37   \n",
              "\n",
              "        network_groupe_code  spareOp4  montant_total     heure           min  \n",
              "1                        12         0       50250.00 -0.866025 -1.045285e-01  \n",
              "2                        12         0         103.53 -1.000000 -9.510565e-01  \n",
              "3                        12         0       50250.00 -0.866025  9.135455e-01  \n",
              "4                         6         0         200.00 -0.258819  5.000000e-01  \n",
              "5                        12         0        5025.00 -0.258819  6.123234e-17  \n",
              "...                     ...       ...            ...       ...           ...  \n",
              "297032                   11         0        1000.00  0.965926  9.945219e-01  \n",
              "297033                   11         0        2500.00  0.965926  9.945219e-01  \n",
              "297034                   11         0        1500.00  0.965926  9.945219e-01  \n",
              "297035                   11         0        1500.00  0.965926  9.945219e-01  \n",
              "297036                   11         0        5000.00  0.965926  9.945219e-01  \n",
              "\n",
              "[296741 rows x 11 columns]"
            ],
            "text/html": [
              "\n",
              "  <div id=\"df-5b29a97f-3108-4906-bccf-7bf88e61025d\">\n",
              "    <div class=\"colab-df-container\">\n",
              "      <div>\n",
              "<style scoped>\n",
              "    .dataframe tbody tr th:only-of-type {\n",
              "        vertical-align: middle;\n",
              "    }\n",
              "\n",
              "    .dataframe tbody tr th {\n",
              "        vertical-align: top;\n",
              "    }\n",
              "\n",
              "    .dataframe thead th {\n",
              "        text-align: right;\n",
              "    }\n",
              "</style>\n",
              "<table border=\"1\" class=\"dataframe\">\n",
              "  <thead>\n",
              "    <tr style=\"text-align: right;\">\n",
              "      <th></th>\n",
              "      <th>codeNetwork</th>\n",
              "      <th>codePDA</th>\n",
              "      <th>codeSalePoint</th>\n",
              "      <th>codeService</th>\n",
              "      <th>loginAgent</th>\n",
              "      <th>type</th>\n",
              "      <th>network_groupe_code</th>\n",
              "      <th>spareOp4</th>\n",
              "      <th>montant_total</th>\n",
              "      <th>heure</th>\n",
              "      <th>min</th>\n",
              "    </tr>\n",
              "  </thead>\n",
              "  <tbody>\n",
              "    <tr>\n",
              "      <th>1</th>\n",
              "      <td>422</td>\n",
              "      <td>11377</td>\n",
              "      <td>10191</td>\n",
              "      <td>187</td>\n",
              "      <td>9350</td>\n",
              "      <td>119</td>\n",
              "      <td>12</td>\n",
              "      <td>0</td>\n",
              "      <td>50250.00</td>\n",
              "      <td>-0.866025</td>\n",
              "      <td>-1.045285e-01</td>\n",
              "    </tr>\n",
              "    <tr>\n",
              "      <th>2</th>\n",
              "      <td>293</td>\n",
              "      <td>11225</td>\n",
              "      <td>5453</td>\n",
              "      <td>152</td>\n",
              "      <td>6201</td>\n",
              "      <td>110</td>\n",
              "      <td>12</td>\n",
              "      <td>0</td>\n",
              "      <td>103.53</td>\n",
              "      <td>-1.000000</td>\n",
              "      <td>-9.510565e-01</td>\n",
              "    </tr>\n",
              "    <tr>\n",
              "      <th>3</th>\n",
              "      <td>422</td>\n",
              "      <td>11377</td>\n",
              "      <td>10191</td>\n",
              "      <td>187</td>\n",
              "      <td>9350</td>\n",
              "      <td>119</td>\n",
              "      <td>12</td>\n",
              "      <td>0</td>\n",
              "      <td>50250.00</td>\n",
              "      <td>-0.866025</td>\n",
              "      <td>9.135455e-01</td>\n",
              "    </tr>\n",
              "    <tr>\n",
              "      <th>4</th>\n",
              "      <td>0</td>\n",
              "      <td>657</td>\n",
              "      <td>948</td>\n",
              "      <td>88</td>\n",
              "      <td>7265</td>\n",
              "      <td>25</td>\n",
              "      <td>6</td>\n",
              "      <td>0</td>\n",
              "      <td>200.00</td>\n",
              "      <td>-0.258819</td>\n",
              "      <td>5.000000e-01</td>\n",
              "    </tr>\n",
              "    <tr>\n",
              "      <th>5</th>\n",
              "      <td>422</td>\n",
              "      <td>11805</td>\n",
              "      <td>10192</td>\n",
              "      <td>187</td>\n",
              "      <td>1863</td>\n",
              "      <td>119</td>\n",
              "      <td>12</td>\n",
              "      <td>0</td>\n",
              "      <td>5025.00</td>\n",
              "      <td>-0.258819</td>\n",
              "      <td>6.123234e-17</td>\n",
              "    </tr>\n",
              "    <tr>\n",
              "      <th>...</th>\n",
              "      <td>...</td>\n",
              "      <td>...</td>\n",
              "      <td>...</td>\n",
              "      <td>...</td>\n",
              "      <td>...</td>\n",
              "      <td>...</td>\n",
              "      <td>...</td>\n",
              "      <td>...</td>\n",
              "      <td>...</td>\n",
              "      <td>...</td>\n",
              "      <td>...</td>\n",
              "    </tr>\n",
              "    <tr>\n",
              "      <th>297032</th>\n",
              "      <td>435</td>\n",
              "      <td>2924</td>\n",
              "      <td>10288</td>\n",
              "      <td>138</td>\n",
              "      <td>2087</td>\n",
              "      <td>37</td>\n",
              "      <td>11</td>\n",
              "      <td>0</td>\n",
              "      <td>1000.00</td>\n",
              "      <td>0.965926</td>\n",
              "      <td>9.945219e-01</td>\n",
              "    </tr>\n",
              "    <tr>\n",
              "      <th>297033</th>\n",
              "      <td>435</td>\n",
              "      <td>2924</td>\n",
              "      <td>10288</td>\n",
              "      <td>138</td>\n",
              "      <td>2087</td>\n",
              "      <td>37</td>\n",
              "      <td>11</td>\n",
              "      <td>0</td>\n",
              "      <td>2500.00</td>\n",
              "      <td>0.965926</td>\n",
              "      <td>9.945219e-01</td>\n",
              "    </tr>\n",
              "    <tr>\n",
              "      <th>297034</th>\n",
              "      <td>435</td>\n",
              "      <td>2924</td>\n",
              "      <td>10288</td>\n",
              "      <td>138</td>\n",
              "      <td>2087</td>\n",
              "      <td>37</td>\n",
              "      <td>11</td>\n",
              "      <td>0</td>\n",
              "      <td>1500.00</td>\n",
              "      <td>0.965926</td>\n",
              "      <td>9.945219e-01</td>\n",
              "    </tr>\n",
              "    <tr>\n",
              "      <th>297035</th>\n",
              "      <td>435</td>\n",
              "      <td>2924</td>\n",
              "      <td>10288</td>\n",
              "      <td>138</td>\n",
              "      <td>2087</td>\n",
              "      <td>37</td>\n",
              "      <td>11</td>\n",
              "      <td>0</td>\n",
              "      <td>1500.00</td>\n",
              "      <td>0.965926</td>\n",
              "      <td>9.945219e-01</td>\n",
              "    </tr>\n",
              "    <tr>\n",
              "      <th>297036</th>\n",
              "      <td>435</td>\n",
              "      <td>2924</td>\n",
              "      <td>10288</td>\n",
              "      <td>138</td>\n",
              "      <td>2087</td>\n",
              "      <td>37</td>\n",
              "      <td>11</td>\n",
              "      <td>0</td>\n",
              "      <td>5000.00</td>\n",
              "      <td>0.965926</td>\n",
              "      <td>9.945219e-01</td>\n",
              "    </tr>\n",
              "  </tbody>\n",
              "</table>\n",
              "<p>296741 rows × 11 columns</p>\n",
              "</div>\n",
              "      <button class=\"colab-df-convert\" onclick=\"convertToInteractive('df-5b29a97f-3108-4906-bccf-7bf88e61025d')\"\n",
              "              title=\"Convert this dataframe to an interactive table.\"\n",
              "              style=\"display:none;\">\n",
              "        \n",
              "  <svg xmlns=\"http://www.w3.org/2000/svg\" height=\"24px\"viewBox=\"0 0 24 24\"\n",
              "       width=\"24px\">\n",
              "    <path d=\"M0 0h24v24H0V0z\" fill=\"none\"/>\n",
              "    <path d=\"M18.56 5.44l.94 2.06.94-2.06 2.06-.94-2.06-.94-.94-2.06-.94 2.06-2.06.94zm-11 1L8.5 8.5l.94-2.06 2.06-.94-2.06-.94L8.5 2.5l-.94 2.06-2.06.94zm10 10l.94 2.06.94-2.06 2.06-.94-2.06-.94-.94-2.06-.94 2.06-2.06.94z\"/><path d=\"M17.41 7.96l-1.37-1.37c-.4-.4-.92-.59-1.43-.59-.52 0-1.04.2-1.43.59L10.3 9.45l-7.72 7.72c-.78.78-.78 2.05 0 2.83L4 21.41c.39.39.9.59 1.41.59.51 0 1.02-.2 1.41-.59l7.78-7.78 2.81-2.81c.8-.78.8-2.07 0-2.86zM5.41 20L4 18.59l7.72-7.72 1.47 1.35L5.41 20z\"/>\n",
              "  </svg>\n",
              "      </button>\n",
              "      \n",
              "  <style>\n",
              "    .colab-df-container {\n",
              "      display:flex;\n",
              "      flex-wrap:wrap;\n",
              "      gap: 12px;\n",
              "    }\n",
              "\n",
              "    .colab-df-convert {\n",
              "      background-color: #E8F0FE;\n",
              "      border: none;\n",
              "      border-radius: 50%;\n",
              "      cursor: pointer;\n",
              "      display: none;\n",
              "      fill: #1967D2;\n",
              "      height: 32px;\n",
              "      padding: 0 0 0 0;\n",
              "      width: 32px;\n",
              "    }\n",
              "\n",
              "    .colab-df-convert:hover {\n",
              "      background-color: #E2EBFA;\n",
              "      box-shadow: 0px 1px 2px rgba(60, 64, 67, 0.3), 0px 1px 3px 1px rgba(60, 64, 67, 0.15);\n",
              "      fill: #174EA6;\n",
              "    }\n",
              "\n",
              "    [theme=dark] .colab-df-convert {\n",
              "      background-color: #3B4455;\n",
              "      fill: #D2E3FC;\n",
              "    }\n",
              "\n",
              "    [theme=dark] .colab-df-convert:hover {\n",
              "      background-color: #434B5C;\n",
              "      box-shadow: 0px 1px 3px 1px rgba(0, 0, 0, 0.15);\n",
              "      filter: drop-shadow(0px 1px 2px rgba(0, 0, 0, 0.3));\n",
              "      fill: #FFFFFF;\n",
              "    }\n",
              "  </style>\n",
              "\n",
              "      <script>\n",
              "        const buttonEl =\n",
              "          document.querySelector('#df-5b29a97f-3108-4906-bccf-7bf88e61025d button.colab-df-convert');\n",
              "        buttonEl.style.display =\n",
              "          google.colab.kernel.accessAllowed ? 'block' : 'none';\n",
              "\n",
              "        async function convertToInteractive(key) {\n",
              "          const element = document.querySelector('#df-5b29a97f-3108-4906-bccf-7bf88e61025d');\n",
              "          const dataTable =\n",
              "            await google.colab.kernel.invokeFunction('convertToInteractive',\n",
              "                                                     [key], {});\n",
              "          if (!dataTable) return;\n",
              "\n",
              "          const docLinkHtml = 'Like what you see? Visit the ' +\n",
              "            '<a target=\"_blank\" href=https://colab.research.google.com/notebooks/data_table.ipynb>data table notebook</a>'\n",
              "            + ' to learn more about interactive tables.';\n",
              "          element.innerHTML = '';\n",
              "          dataTable['output_type'] = 'display_data';\n",
              "          await google.colab.output.renderOutput(dataTable, element);\n",
              "          const docLink = document.createElement('div');\n",
              "          docLink.innerHTML = docLinkHtml;\n",
              "          element.appendChild(docLink);\n",
              "        }\n",
              "      </script>\n",
              "    </div>\n",
              "  </div>\n",
              "  "
            ]
          },
          "metadata": {},
          "execution_count": 46
        }
      ],
      "source": [
        "encode_ml_dataset"
      ]
    },
    {
      "cell_type": "code",
      "source": [
        "encode_ml_dataset.shape"
      ],
      "metadata": {
        "colab": {
          "base_uri": "https://localhost:8080/"
        },
        "id": "CFqzKRLg9-Yr",
        "outputId": "322d44b7-6b35-4d92-c65f-c4edad9040bd"
      },
      "execution_count": null,
      "outputs": [
        {
          "output_type": "execute_result",
          "data": {
            "text/plain": [
              "(296741, 11)"
            ]
          },
          "metadata": {},
          "execution_count": 47
        }
      ]
    },
    {
      "cell_type": "code",
      "execution_count": null,
      "metadata": {
        "id": "jLUFKlnOXTly"
      },
      "outputs": [],
      "source": [
        "X_train,X_test  = train_test_split(encode_ml_dataset.to_numpy())"
      ]
    },
    {
      "cell_type": "code",
      "source": [
        "import pickle\n",
        "d = pickle.load(open(\"classifers.pkl\",\"rb\"))[0]"
      ],
      "metadata": {
        "id": "GIpM5QehED11"
      },
      "execution_count": null,
      "outputs": []
    },
    {
      "cell_type": "code",
      "source": [
        "X.shape"
      ],
      "metadata": {
        "colab": {
          "base_uri": "https://localhost:8080/"
        },
        "id": "e4kZCEsJ4AVS",
        "outputId": "c4e09318-8380-45fe-c745-0ca4f5075a84"
      },
      "execution_count": null,
      "outputs": [
        {
          "output_type": "execute_result",
          "data": {
            "text/plain": [
              "(1, 11)"
            ]
          },
          "metadata": {},
          "execution_count": 78
        }
      ]
    },
    {
      "cell_type": "code",
      "source": [
        "X = pd.DataFrame(encode_ml_dataset.iloc[0]).to_numpy().reshape(1,-1)\n",
        "s = d.decision_function(X)\n",
        "print(s)"
      ],
      "metadata": {
        "colab": {
          "base_uri": "https://localhost:8080/"
        },
        "id": "FEm4OZQt3kex",
        "outputId": "ebcf1e34-d840-4a71-a37f-3b762357cb37"
      },
      "execution_count": null,
      "outputs": [
        {
          "output_type": "stream",
          "name": "stdout",
          "text": [
            "[-0.0840704]\n"
          ]
        }
      ]
    },
    {
      "cell_type": "code",
      "execution_count": null,
      "metadata": {
        "colab": {
          "base_uri": "https://localhost:8080/",
          "height": 87
        },
        "id": "VYTcBte9_FWP",
        "outputId": "25855560-c6c3-4e70-e50b-3db855e7eca2"
      },
      "outputs": [
        {
          "output_type": "execute_result",
          "data": {
            "text/plain": [
              "'len = X_train.shape[1]\\nmodel = IsolationForest(max_features=len)\\nparam_grid = {\\'n_estimators\\': list(range(100, 800, 100)), \\n              \\'max_samples\\': list(range(100, 500, 100)), \\n              \\'contamination\\': [0.1, 0.2, 0.3, 0.4, 0.5], \\n              \\'bootstrap\\': [True, False], \\n              \\'n_jobs\\': [5, 10, 20, 30]}\\ndef scorer_f(estimator, X):   #your own scorer\\n      return np.mean(estimator.score_samples(X))\\nsearch = GridSearchCV(model, param_grid,cv=10,scoring=scorer_f)\\nsearch.fit(X_train[:1000])\\nprint(\"Best parameter (CV score=%0.3f):\" % search.best_score_)'"
            ],
            "application/vnd.google.colaboratory.intrinsic+json": {
              "type": "string"
            }
          },
          "metadata": {},
          "execution_count": 134
        }
      ],
      "source": [
        "\"\"\"len = X_train.shape[1]\n",
        "model = IsolationForest(max_features=len)\n",
        "param_grid = {'n_estimators': list(range(100, 800, 100)),\n",
        "              'max_samples': list(range(100, 500, 100)),\n",
        "              'contamination': [0.1, 0.2, 0.3, 0.4, 0.5],\n",
        "              'bootstrap': [True, False],\n",
        "              'n_jobs': [5, 10, 20, 30]}\n",
        "def scorer_f(estimator, X):   #your own scorer\n",
        "      return np.mean(estimator.score_samples(X))\n",
        "search = GridSearchCV(model, param_grid,cv=10,scoring=scorer_f)\n",
        "search.fit(X_train[:1000])\n",
        "print(\"Best parameter (CV score=%0.3f):\" % search.best_score_)\"\"\""
      ]
    },
    {
      "cell_type": "code",
      "execution_count": null,
      "metadata": {
        "colab": {
          "base_uri": "https://localhost:8080/"
        },
        "id": "OaFqJp_ZrBIT",
        "outputId": "4ea18f9c-ffad-4883-cf45-7921af73ab65"
      },
      "outputs": [
        {
          "output_type": "stream",
          "name": "stderr",
          "text": [
            "[Parallel(n_jobs=20)]: Using backend ThreadingBackend with 20 concurrent workers.\n"
          ]
        },
        {
          "output_type": "stream",
          "name": "stdout",
          "text": [
            "Building estimator 1 of 13 for this parallel run (total 256)...\n",
            "Building estimator 1 of 13 for this parallel run (total 256)...\n",
            "Building estimator 1 of 13 for this parallel run (total 256)...\n",
            "Building estimator 1 of 13 for this parallel run (total 256)...\n",
            "Building estimator 1 of 13 for this parallel run (total 256)...\n",
            "Building estimator 1 of 13 for this parallel run (total 256)...\n",
            "Building estimator 1 of 13 for this parallel run (total 256)...\n",
            "Building estimator 1 of 13 for this parallel run (total 256)...\n",
            "Building estimator 1 of 13 for this parallel run (total 256)...\n",
            "Building estimator 1 of 13 for this parallel run (total 256)...\n",
            "Building estimator 1 of 13 for this parallel run (total 256)...Building estimator 1 of 13 for this parallel run (total 256)...\n",
            "Building estimator 1 of 13 for this parallel run (total 256)...\n",
            "Building estimator 1 of 13 for this parallel run (total 256)...\n",
            "Building estimator 1 of 13 for this parallel run (total 256)...Building estimator 1 of 13 for this parallel run (total 256)...\n",
            "Building estimator 1 of 12 for this parallel run (total 256)...\n",
            "\n",
            "Building estimator 1 of 12 for this parallel run (total 256)...\n",
            "\n",
            "Building estimator 1 of 12 for this parallel run (total 256)...Building estimator 1 of 12 for this parallel run (total 256)...\n",
            "\n",
            "Building estimator 2 of 13 for this parallel run (total 256)...\n",
            "Building estimator 2 of 13 for this parallel run (total 256)...\n",
            "Building estimator 2 of 13 for this parallel run (total 256)...\n",
            "Building estimator 2 of 13 for this parallel run (total 256)...\n",
            "Building estimator 2 of 13 for this parallel run (total 256)...\n",
            "Building estimator 2 of 13 for this parallel run (total 256)...\n",
            "Building estimator 2 of 13 for this parallel run (total 256)...\n",
            "Building estimator 2 of 13 for this parallel run (total 256)...Building estimator 2 of 13 for this parallel run (total 256)...\n",
            "\n",
            "Building estimator 2 of 13 for this parallel run (total 256)...Building estimator 2 of 13 for this parallel run (total 256)...\n",
            "Building estimator 2 of 13 for this parallel run (total 256)...\n",
            "Building estimator 2 of 12 for this parallel run (total 256)...\n",
            "Building estimator 3 of 13 for this parallel run (total 256)...\n",
            "Building estimator 2 of 13 for this parallel run (total 256)...\n",
            "Building estimator 3 of 13 for this parallel run (total 256)...\n",
            "Building estimator 2 of 13 for this parallel run (total 256)...\n",
            "Building estimator 3 of 13 for this parallel run (total 256)...\n",
            "Building estimator 2 of 12 for this parallel run (total 256)...\n",
            "\n",
            "Building estimator 2 of 12 for this parallel run (total 256)...Building estimator 3 of 13 for this parallel run (total 256)...\n",
            "\n",
            "Building estimator 2 of 13 for this parallel run (total 256)...\n",
            "Building estimator 3 of 13 for this parallel run (total 256)...\n",
            "Building estimator 2 of 12 for this parallel run (total 256)...\n",
            "Building estimator 2 of 13 for this parallel run (total 256)...\n",
            "Building estimator 3 of 13 for this parallel run (total 256)...\n",
            "Building estimator 4 of 13 for this parallel run (total 256)...Building estimator 3 of 13 for this parallel run (total 256)...\n",
            "Building estimator 3 of 13 for this parallel run (total 256)...Building estimator 3 of 13 for this parallel run (total 256)...\n",
            "\n",
            "Building estimator 3 of 13 for this parallel run (total 256)...\n",
            "\n",
            "Building estimator 3 of 13 for this parallel run (total 256)...\n",
            "Building estimator 3 of 12 for this parallel run (total 256)...\n",
            "Building estimator 3 of 13 for this parallel run (total 256)...\n",
            "Building estimator 3 of 13 for this parallel run (total 256)...\n",
            "Building estimator 3 of 12 for this parallel run (total 256)...\n",
            "Building estimator 3 of 13 for this parallel run (total 256)...\n",
            "Building estimator 4 of 13 for this parallel run (total 256)...\n",
            "Building estimator 3 of 12 for this parallel run (total 256)...\n",
            "Building estimator 4 of 13 for this parallel run (total 256)...Building estimator 4 of 13 for this parallel run (total 256)...\n",
            "Building estimator 4 of 13 for this parallel run (total 256)...\n",
            "Building estimator 3 of 12 for this parallel run (total 256)...\n",
            "\n",
            "Building estimator 4 of 13 for this parallel run (total 256)...\n",
            "Building estimator 3 of 13 for this parallel run (total 256)...\n",
            "Building estimator 4 of 13 for this parallel run (total 256)...\n",
            "Building estimator 4 of 13 for this parallel run (total 256)...\n",
            "Building estimator 3 of 13 for this parallel run (total 256)...\n",
            "Building estimator 4 of 13 for this parallel run (total 256)...\n",
            "Building estimator 5 of 13 for this parallel run (total 256)...\n",
            "Building estimator 4 of 12 for this parallel run (total 256)...\n",
            "Building estimator 4 of 13 for this parallel run (total 256)...\n",
            "Building estimator 4 of 13 for this parallel run (total 256)...\n",
            "Building estimator 5 of 13 for this parallel run (total 256)...\n",
            "Building estimator 4 of 12 for this parallel run (total 256)...\n",
            "Building estimator 4 of 13 for this parallel run (total 256)...\n",
            "Building estimator 4 of 12 for this parallel run (total 256)...\n",
            "Building estimator 5 of 13 for this parallel run (total 256)...Building estimator 4 of 12 for this parallel run (total 256)...\n",
            "Building estimator 4 of 13 for this parallel run (total 256)...\n",
            "\n",
            "Building estimator 5 of 13 for this parallel run (total 256)...\n",
            "Building estimator 4 of 13 for this parallel run (total 256)...\n",
            "Building estimator 5 of 13 for this parallel run (total 256)...\n",
            "Building estimator 5 of 13 for this parallel run (total 256)...\n",
            "Building estimator 5 of 13 for this parallel run (total 256)...Building estimator 5 of 13 for this parallel run (total 256)...\n",
            "\n",
            "Building estimator 4 of 13 for this parallel run (total 256)...\n",
            "Building estimator 6 of 13 for this parallel run (total 256)...\n",
            "Building estimator 5 of 12 for this parallel run (total 256)...\n",
            "Building estimator 5 of 13 for this parallel run (total 256)...\n",
            "Building estimator 5 of 13 for this parallel run (total 256)...Building estimator 5 of 13 for this parallel run (total 256)...\n",
            "Building estimator 6 of 13 for this parallel run (total 256)...\n",
            "Building estimator 4 of 13 for this parallel run (total 256)...\n",
            "Building estimator 5 of 13 for this parallel run (total 256)...\n",
            "Building estimator 5 of 12 for this parallel run (total 256)...\n",
            "Building estimator 5 of 12 for this parallel run (total 256)...\n",
            "Building estimator 5 of 13 for this parallel run (total 256)...\n",
            "\n",
            "Building estimator 6 of 13 for this parallel run (total 256)...Building estimator 6 of 13 for this parallel run (total 256)...Building estimator 5 of 13 for this parallel run (total 256)...\n",
            "\n",
            "Building estimator 5 of 12 for this parallel run (total 256)...\n",
            "Building estimator 6 of 13 for this parallel run (total 256)...Building estimator 7 of 13 for this parallel run (total 256)...\n",
            "\n",
            "\n",
            "Building estimator 5 of 13 for this parallel run (total 256)...\n",
            "Building estimator 6 of 13 for this parallel run (total 256)...\n",
            "Building estimator 6 of 13 for this parallel run (total 256)...Building estimator 6 of 12 for this parallel run (total 256)...\n",
            "\n",
            "Building estimator 5 of 13 for this parallel run (total 256)...\n",
            "Building estimator 6 of 13 for this parallel run (total 256)...\n",
            "Building estimator 6 of 13 for this parallel run (total 256)...\n",
            "Building estimator 7 of 13 for this parallel run (total 256)...\n",
            "Building estimator 6 of 13 for this parallel run (total 256)...\n",
            "Building estimator 6 of 13 for this parallel run (total 256)...\n",
            "Building estimator 7 of 13 for this parallel run (total 256)...\n",
            "Building estimator 6 of 13 for this parallel run (total 256)...\n",
            "Building estimator 6 of 13 for this parallel run (total 256)...\n",
            "Building estimator 7 of 13 for this parallel run (total 256)...Building estimator 6 of 12 for this parallel run (total 256)...\n",
            "\n",
            "Building estimator 6 of 12 for this parallel run (total 256)...\n",
            "Building estimator 6 of 13 for this parallel run (total 256)...Building estimator 8 of 13 for this parallel run (total 256)...\n",
            "Building estimator 6 of 13 for this parallel run (total 256)...\n",
            "Building estimator 7 of 13 for this parallel run (total 256)...\n",
            "\n",
            "Building estimator 7 of 12 for this parallel run (total 256)...\n",
            "Building estimator 6 of 12 for this parallel run (total 256)...\n",
            "Building estimator 7 of 13 for this parallel run (total 256)...\n",
            "Building estimator 6 of 13 for this parallel run (total 256)...\n",
            "Building estimator 7 of 13 for this parallel run (total 256)...\n",
            "Building estimator 7 of 13 for this parallel run (total 256)...\n",
            "Building estimator 7 of 13 for this parallel run (total 256)...\n",
            "Building estimator 8 of 13 for this parallel run (total 256)...\n",
            "Building estimator 7 of 13 for this parallel run (total 256)...\n",
            "Building estimator 8 of 13 for this parallel run (total 256)...\n",
            "Building estimator 8 of 13 for this parallel run (total 256)...\n",
            "Building estimator 7 of 12 for this parallel run (total 256)...\n",
            "Building estimator 8 of 12 for this parallel run (total 256)...\n",
            "Building estimator 7 of 13 for this parallel run (total 256)...\n",
            "Building estimator 7 of 13 for this parallel run (total 256)...\n",
            "Building estimator 9 of 13 for this parallel run (total 256)...\n",
            "Building estimator 7 of 13 for this parallel run (total 256)...\n",
            "Building estimator 7 of 12 for this parallel run (total 256)...\n",
            "Building estimator 8 of 13 for this parallel run (total 256)...\n",
            "Building estimator 8 of 13 for this parallel run (total 256)...\n",
            "Building estimator 7 of 12 for this parallel run (total 256)...\n",
            "Building estimator 7 of 13 for this parallel run (total 256)...\n",
            "Building estimator 7 of 13 for this parallel run (total 256)...\n",
            "Building estimator 8 of 13 for this parallel run (total 256)...\n",
            "Building estimator 8 of 13 for this parallel run (total 256)...\n",
            "Building estimator 9 of 12 for this parallel run (total 256)...\n",
            "Building estimator 9 of 13 for this parallel run (total 256)...\n",
            "Building estimator 9 of 13 for this parallel run (total 256)...\n",
            "Building estimator 7 of 13 for this parallel run (total 256)...\n",
            "Building estimator 9 of 13 for this parallel run (total 256)...\n",
            "Building estimator 8 of 13 for this parallel run (total 256)...\n",
            "Building estimator 8 of 12 for this parallel run (total 256)...Building estimator 8 of 12 for this parallel run (total 256)...\n",
            "\n",
            "Building estimator 8 of 13 for this parallel run (total 256)...Building estimator 8 of 13 for this parallel run (total 256)...\n",
            "\n",
            "Building estimator 9 of 13 for this parallel run (total 256)...\n",
            "Building estimator 10 of 13 for this parallel run (total 256)...\n",
            "Building estimator 8 of 13 for this parallel run (total 256)...\n",
            "Building estimator 9 of 13 for this parallel run (total 256)...\n",
            "Building estimator 8 of 13 for this parallel run (total 256)...\n",
            "Building estimator 8 of 12 for this parallel run (total 256)...Building estimator 8 of 13 for this parallel run (total 256)...\n",
            "\n",
            "Building estimator 10 of 13 for this parallel run (total 256)...\n",
            "Building estimator 9 of 13 for this parallel run (total 256)...Building estimator 10 of 13 for this parallel run (total 256)...\n",
            "Building estimator 9 of 12 for this parallel run (total 256)...\n",
            "Building estimator 8 of 13 for this parallel run (total 256)...\n",
            "\n",
            "Building estimator 10 of 13 for this parallel run (total 256)...\n",
            "Building estimator 10 of 12 for this parallel run (total 256)...\n",
            "Building estimator 10 of 13 for this parallel run (total 256)...\n",
            "Building estimator 9 of 13 for this parallel run (total 256)...\n",
            "Building estimator 10 of 13 for this parallel run (total 256)...\n",
            "Building estimator 9 of 13 for this parallel run (total 256)...\n",
            "Building estimator 8 of 13 for this parallel run (total 256)...\n",
            "Building estimator 9 of 12 for this parallel run (total 256)...\n",
            "Building estimator 9 of 13 for this parallel run (total 256)...\n",
            "Building estimator 9 of 12 for this parallel run (total 256)...Building estimator 9 of 13 for this parallel run (total 256)...\n",
            "Building estimator 9 of 13 for this parallel run (total 256)...\n",
            "\n",
            "Building estimator 9 of 13 for this parallel run (total 256)...\n",
            "Building estimator 11 of 13 for this parallel run (total 256)...\n",
            "Building estimator 10 of 13 for this parallel run (total 256)...\n",
            "Building estimator 10 of 13 for this parallel run (total 256)...\n",
            "Building estimator 11 of 13 for this parallel run (total 256)...\n",
            "Building estimator 11 of 12 for this parallel run (total 256)...\n",
            "Building estimator 9 of 13 for this parallel run (total 256)...\n",
            "Building estimator 9 of 13 for this parallel run (total 256)...Building estimator 11 of 13 for this parallel run (total 256)...\n",
            "Building estimator 11 of 13 for this parallel run (total 256)...\n",
            "\n",
            "Building estimator 10 of 12 for this parallel run (total 256)...\n",
            "Building estimator 10 of 13 for this parallel run (total 256)...\n",
            "Building estimator 11 of 13 for this parallel run (total 256)...\n",
            "Building estimator 11 of 13 for this parallel run (total 256)...\n",
            "Building estimator 10 of 13 for this parallel run (total 256)...\n",
            "Building estimator 10 of 13 for this parallel run (total 256)...\n",
            "Building estimator 10 of 12 for this parallel run (total 256)...\n",
            "Building estimator 10 of 13 for this parallel run (total 256)...\n",
            "Building estimator 9 of 13 for this parallel run (total 256)...\n",
            "Building estimator 11 of 13 for this parallel run (total 256)...\n",
            "Building estimator 10 of 13 for this parallel run (total 256)...\n",
            "Building estimator 10 of 13 for this parallel run (total 256)...\n",
            "Building estimator 10 of 12 for this parallel run (total 256)...\n",
            "Building estimator 12 of 13 for this parallel run (total 256)...\n",
            "Building estimator 11 of 13 for this parallel run (total 256)...\n",
            "Building estimator 12 of 13 for this parallel run (total 256)...\n",
            "Building estimator 12 of 13 for this parallel run (total 256)...\n",
            "Building estimator 11 of 12 for this parallel run (total 256)...\n",
            "Building estimator 10 of 13 for this parallel run (total 256)...\n",
            "Building estimator 12 of 13 for this parallel run (total 256)...\n",
            "Building estimator 11 of 13 for this parallel run (total 256)...\n",
            "Building estimator 10 of 13 for this parallel run (total 256)...\n",
            "Building estimator 11 of 13 for this parallel run (total 256)...\n",
            "Building estimator 12 of 13 for this parallel run (total 256)...\n",
            "Building estimator 11 of 12 for this parallel run (total 256)...\n",
            "Building estimator 12 of 13 for this parallel run (total 256)...Building estimator 12 of 12 for this parallel run (total 256)...\n",
            "Building estimator 11 of 13 for this parallel run (total 256)...Building estimator 11 of 13 for this parallel run (total 256)...\n",
            "\n",
            "Building estimator 11 of 13 for this parallel run (total 256)...\n",
            "\n",
            "Building estimator 11 of 12 for this parallel run (total 256)...\n",
            "Building estimator 11 of 13 for this parallel run (total 256)...\n",
            "Building estimator 12 of 13 for this parallel run (total 256)...\n",
            "Building estimator 12 of 13 for this parallel run (total 256)...Building estimator 13 of 13 for this parallel run (total 256)...\n",
            "Building estimator 12 of 13 for this parallel run (total 256)...\n",
            "\n",
            "Building estimator 12 of 12 for this parallel run (total 256)...\n",
            "Building estimator 13 of 13 for this parallel run (total 256)...Building estimator 13 of 13 for this parallel run (total 256)...\n",
            "Building estimator 13 of 13 for this parallel run (total 256)...\n",
            "\n",
            "Building estimator 12 of 12 for this parallel run (total 256)...\n",
            "Building estimator 12 of 13 for this parallel run (total 256)...\n",
            "Building estimator 11 of 13 for this parallel run (total 256)...\n",
            "Building estimator 13 of 13 for this parallel run (total 256)...\n",
            "Building estimator 11 of 13 for this parallel run (total 256)...\n",
            "Building estimator 12 of 13 for this parallel run (total 256)...\n",
            "Building estimator 12 of 13 for this parallel run (total 256)...\n",
            "Building estimator 13 of 13 for this parallel run (total 256)...\n",
            "Building estimator 13 of 13 for this parallel run (total 256)...\n",
            "Building estimator 12 of 13 for this parallel run (total 256)...\n",
            "Building estimator 12 of 12 for this parallel run (total 256)...\n",
            "Building estimator 12 of 13 for this parallel run (total 256)...\n",
            "Building estimator 12 of 13 for this parallel run (total 256)...\n",
            "Building estimator 13 of 13 for this parallel run (total 256)...\n",
            "Building estimator 13 of 13 for this parallel run (total 256)...\n",
            "Building estimator 13 of 13 for this parallel run (total 256)...\n"
          ]
        },
        {
          "output_type": "stream",
          "name": "stderr",
          "text": [
            "[Parallel(n_jobs=20)]: Done   2 out of  20 | elapsed:    8.4s remaining:  1.3min\n",
            "[Parallel(n_jobs=20)]: Done   9 out of  20 | elapsed:    8.6s remaining:   10.6s\n"
          ]
        },
        {
          "output_type": "stream",
          "name": "stdout",
          "text": [
            "Building estimator 12 of 13 for this parallel run (total 256)...\n",
            "Building estimator 13 of 13 for this parallel run (total 256)...\n",
            "Building estimator 13 of 13 for this parallel run (total 256)...\n",
            "Building estimator 13 of 13 for this parallel run (total 256)...\n",
            "Building estimator 13 of 13 for this parallel run (total 256)...Building estimator 13 of 13 for this parallel run (total 256)...\n",
            "\n",
            "Building estimator 13 of 13 for this parallel run (total 256)...\n"
          ]
        },
        {
          "output_type": "stream",
          "name": "stderr",
          "text": [
            "[Parallel(n_jobs=20)]: Done  16 out of  20 | elapsed:    8.9s remaining:    2.2s\n",
            "[Parallel(n_jobs=20)]: Done  20 out of  20 | elapsed:    9.0s finished\n"
          ]
        },
        {
          "output_type": "execute_result",
          "data": {
            "text/plain": [
              "IsolationForest(max_features=11, max_samples=1000, n_estimators=256, n_jobs=20,\n",
              "                verbose=3)"
            ]
          },
          "metadata": {},
          "execution_count": 135
        }
      ],
      "source": [
        "len = X_train.shape[1]\n",
        "IForest = IsolationForest(bootstrap=False, max_samples=1000, n_estimators = 256, n_jobs = 20, max_features = len,verbose=3)\n",
        "IForest.fit(X_train)"
      ]
    },
    {
      "cell_type": "code",
      "execution_count": null,
      "metadata": {
        "id": "x5NYgf84pF9H"
      },
      "outputs": [],
      "source": [
        "data  = pd.DataFrame(X_train,columns=encode_ml_dataset.columns)\n",
        "data['scores'] = IForest.decision_function(X_train)"
      ]
    },
    {
      "cell_type": "code",
      "execution_count": null,
      "metadata": {
        "colab": {
          "base_uri": "https://localhost:8080/",
          "height": 424
        },
        "id": "BeM1xodfW3to",
        "outputId": "ecf2064b-78b5-4f28-f0b9-1510fa719e1a"
      },
      "outputs": [
        {
          "output_type": "execute_result",
          "data": {
            "text/plain": [
              "        codeNetwork  codePDA  codeSalePoint  codeService  loginAgent   type  \\\n",
              "0             392.0  10667.0         5273.0         45.0     10671.0   96.0   \n",
              "1             344.0  11053.0         8476.0         45.0      8889.0   84.0   \n",
              "2             356.0   5838.0         8913.0         77.0      7513.0  129.0   \n",
              "3             302.0   1028.0         8038.0         46.0      2119.0   87.0   \n",
              "4             258.0   1100.0         5936.0         34.0      2590.0   69.0   \n",
              "...             ...      ...            ...          ...         ...    ...   \n",
              "222550        384.0   5627.0         9473.0         45.0      6979.0   84.0   \n",
              "222551        317.0      5.0         8070.0        201.0      4385.0  135.0   \n",
              "222552        270.0   7918.0         7038.0        132.0      7031.0   64.0   \n",
              "222553        288.0   3929.0         7663.0          6.0     10781.0  100.0   \n",
              "222554        317.0      5.0         8070.0        201.0      4385.0  135.0   \n",
              "\n",
              "        network_groupe_code  spareOp4  montant_total         heure       min  \\\n",
              "0                      12.0       0.0          100.0 -1.836970e-16  0.104528   \n",
              "1                      12.0       0.0       251000.0  2.588190e-01 -0.994522   \n",
              "2                      12.0       0.0         3000.0 -2.588190e-01 -0.104528   \n",
              "3                       6.0       0.0        10302.0 -7.071068e-01  0.978148   \n",
              "4                       6.0       0.0         5000.0  5.000000e-01 -0.866025   \n",
              "...                     ...       ...            ...           ...       ...   \n",
              "222550                 12.0       0.0        10000.0 -8.660254e-01 -0.994522   \n",
              "222551                  0.0       0.0       200000.0 -2.588190e-01 -0.587785   \n",
              "222552                 11.0       0.0          200.0 -1.000000e+00  0.500000   \n",
              "222553                 11.0       0.0          800.0 -7.071068e-01 -0.951057   \n",
              "222554                  0.0       0.0        10000.0  5.000000e-01 -0.587785   \n",
              "\n",
              "          scores  \n",
              "0       0.024512  \n",
              "1       0.021729  \n",
              "2      -0.003977  \n",
              "3       0.077243  \n",
              "4       0.046839  \n",
              "...          ...  \n",
              "222550  0.041682  \n",
              "222551  0.030598  \n",
              "222552  0.029230  \n",
              "222553  0.031573  \n",
              "222554  0.004220  \n",
              "\n",
              "[222555 rows x 12 columns]"
            ],
            "text/html": [
              "\n",
              "  <div id=\"df-cf99169b-047d-4afc-be20-73c0e688e071\">\n",
              "    <div class=\"colab-df-container\">\n",
              "      <div>\n",
              "<style scoped>\n",
              "    .dataframe tbody tr th:only-of-type {\n",
              "        vertical-align: middle;\n",
              "    }\n",
              "\n",
              "    .dataframe tbody tr th {\n",
              "        vertical-align: top;\n",
              "    }\n",
              "\n",
              "    .dataframe thead th {\n",
              "        text-align: right;\n",
              "    }\n",
              "</style>\n",
              "<table border=\"1\" class=\"dataframe\">\n",
              "  <thead>\n",
              "    <tr style=\"text-align: right;\">\n",
              "      <th></th>\n",
              "      <th>codeNetwork</th>\n",
              "      <th>codePDA</th>\n",
              "      <th>codeSalePoint</th>\n",
              "      <th>codeService</th>\n",
              "      <th>loginAgent</th>\n",
              "      <th>type</th>\n",
              "      <th>network_groupe_code</th>\n",
              "      <th>spareOp4</th>\n",
              "      <th>montant_total</th>\n",
              "      <th>heure</th>\n",
              "      <th>min</th>\n",
              "      <th>scores</th>\n",
              "    </tr>\n",
              "  </thead>\n",
              "  <tbody>\n",
              "    <tr>\n",
              "      <th>0</th>\n",
              "      <td>392.0</td>\n",
              "      <td>10667.0</td>\n",
              "      <td>5273.0</td>\n",
              "      <td>45.0</td>\n",
              "      <td>10671.0</td>\n",
              "      <td>96.0</td>\n",
              "      <td>12.0</td>\n",
              "      <td>0.0</td>\n",
              "      <td>100.0</td>\n",
              "      <td>-1.836970e-16</td>\n",
              "      <td>0.104528</td>\n",
              "      <td>0.024512</td>\n",
              "    </tr>\n",
              "    <tr>\n",
              "      <th>1</th>\n",
              "      <td>344.0</td>\n",
              "      <td>11053.0</td>\n",
              "      <td>8476.0</td>\n",
              "      <td>45.0</td>\n",
              "      <td>8889.0</td>\n",
              "      <td>84.0</td>\n",
              "      <td>12.0</td>\n",
              "      <td>0.0</td>\n",
              "      <td>251000.0</td>\n",
              "      <td>2.588190e-01</td>\n",
              "      <td>-0.994522</td>\n",
              "      <td>0.021729</td>\n",
              "    </tr>\n",
              "    <tr>\n",
              "      <th>2</th>\n",
              "      <td>356.0</td>\n",
              "      <td>5838.0</td>\n",
              "      <td>8913.0</td>\n",
              "      <td>77.0</td>\n",
              "      <td>7513.0</td>\n",
              "      <td>129.0</td>\n",
              "      <td>12.0</td>\n",
              "      <td>0.0</td>\n",
              "      <td>3000.0</td>\n",
              "      <td>-2.588190e-01</td>\n",
              "      <td>-0.104528</td>\n",
              "      <td>-0.003977</td>\n",
              "    </tr>\n",
              "    <tr>\n",
              "      <th>3</th>\n",
              "      <td>302.0</td>\n",
              "      <td>1028.0</td>\n",
              "      <td>8038.0</td>\n",
              "      <td>46.0</td>\n",
              "      <td>2119.0</td>\n",
              "      <td>87.0</td>\n",
              "      <td>6.0</td>\n",
              "      <td>0.0</td>\n",
              "      <td>10302.0</td>\n",
              "      <td>-7.071068e-01</td>\n",
              "      <td>0.978148</td>\n",
              "      <td>0.077243</td>\n",
              "    </tr>\n",
              "    <tr>\n",
              "      <th>4</th>\n",
              "      <td>258.0</td>\n",
              "      <td>1100.0</td>\n",
              "      <td>5936.0</td>\n",
              "      <td>34.0</td>\n",
              "      <td>2590.0</td>\n",
              "      <td>69.0</td>\n",
              "      <td>6.0</td>\n",
              "      <td>0.0</td>\n",
              "      <td>5000.0</td>\n",
              "      <td>5.000000e-01</td>\n",
              "      <td>-0.866025</td>\n",
              "      <td>0.046839</td>\n",
              "    </tr>\n",
              "    <tr>\n",
              "      <th>...</th>\n",
              "      <td>...</td>\n",
              "      <td>...</td>\n",
              "      <td>...</td>\n",
              "      <td>...</td>\n",
              "      <td>...</td>\n",
              "      <td>...</td>\n",
              "      <td>...</td>\n",
              "      <td>...</td>\n",
              "      <td>...</td>\n",
              "      <td>...</td>\n",
              "      <td>...</td>\n",
              "      <td>...</td>\n",
              "    </tr>\n",
              "    <tr>\n",
              "      <th>222550</th>\n",
              "      <td>384.0</td>\n",
              "      <td>5627.0</td>\n",
              "      <td>9473.0</td>\n",
              "      <td>45.0</td>\n",
              "      <td>6979.0</td>\n",
              "      <td>84.0</td>\n",
              "      <td>12.0</td>\n",
              "      <td>0.0</td>\n",
              "      <td>10000.0</td>\n",
              "      <td>-8.660254e-01</td>\n",
              "      <td>-0.994522</td>\n",
              "      <td>0.041682</td>\n",
              "    </tr>\n",
              "    <tr>\n",
              "      <th>222551</th>\n",
              "      <td>317.0</td>\n",
              "      <td>5.0</td>\n",
              "      <td>8070.0</td>\n",
              "      <td>201.0</td>\n",
              "      <td>4385.0</td>\n",
              "      <td>135.0</td>\n",
              "      <td>0.0</td>\n",
              "      <td>0.0</td>\n",
              "      <td>200000.0</td>\n",
              "      <td>-2.588190e-01</td>\n",
              "      <td>-0.587785</td>\n",
              "      <td>0.030598</td>\n",
              "    </tr>\n",
              "    <tr>\n",
              "      <th>222552</th>\n",
              "      <td>270.0</td>\n",
              "      <td>7918.0</td>\n",
              "      <td>7038.0</td>\n",
              "      <td>132.0</td>\n",
              "      <td>7031.0</td>\n",
              "      <td>64.0</td>\n",
              "      <td>11.0</td>\n",
              "      <td>0.0</td>\n",
              "      <td>200.0</td>\n",
              "      <td>-1.000000e+00</td>\n",
              "      <td>0.500000</td>\n",
              "      <td>0.029230</td>\n",
              "    </tr>\n",
              "    <tr>\n",
              "      <th>222553</th>\n",
              "      <td>288.0</td>\n",
              "      <td>3929.0</td>\n",
              "      <td>7663.0</td>\n",
              "      <td>6.0</td>\n",
              "      <td>10781.0</td>\n",
              "      <td>100.0</td>\n",
              "      <td>11.0</td>\n",
              "      <td>0.0</td>\n",
              "      <td>800.0</td>\n",
              "      <td>-7.071068e-01</td>\n",
              "      <td>-0.951057</td>\n",
              "      <td>0.031573</td>\n",
              "    </tr>\n",
              "    <tr>\n",
              "      <th>222554</th>\n",
              "      <td>317.0</td>\n",
              "      <td>5.0</td>\n",
              "      <td>8070.0</td>\n",
              "      <td>201.0</td>\n",
              "      <td>4385.0</td>\n",
              "      <td>135.0</td>\n",
              "      <td>0.0</td>\n",
              "      <td>0.0</td>\n",
              "      <td>10000.0</td>\n",
              "      <td>5.000000e-01</td>\n",
              "      <td>-0.587785</td>\n",
              "      <td>0.004220</td>\n",
              "    </tr>\n",
              "  </tbody>\n",
              "</table>\n",
              "<p>222555 rows × 12 columns</p>\n",
              "</div>\n",
              "      <button class=\"colab-df-convert\" onclick=\"convertToInteractive('df-cf99169b-047d-4afc-be20-73c0e688e071')\"\n",
              "              title=\"Convert this dataframe to an interactive table.\"\n",
              "              style=\"display:none;\">\n",
              "        \n",
              "  <svg xmlns=\"http://www.w3.org/2000/svg\" height=\"24px\"viewBox=\"0 0 24 24\"\n",
              "       width=\"24px\">\n",
              "    <path d=\"M0 0h24v24H0V0z\" fill=\"none\"/>\n",
              "    <path d=\"M18.56 5.44l.94 2.06.94-2.06 2.06-.94-2.06-.94-.94-2.06-.94 2.06-2.06.94zm-11 1L8.5 8.5l.94-2.06 2.06-.94-2.06-.94L8.5 2.5l-.94 2.06-2.06.94zm10 10l.94 2.06.94-2.06 2.06-.94-2.06-.94-.94-2.06-.94 2.06-2.06.94z\"/><path d=\"M17.41 7.96l-1.37-1.37c-.4-.4-.92-.59-1.43-.59-.52 0-1.04.2-1.43.59L10.3 9.45l-7.72 7.72c-.78.78-.78 2.05 0 2.83L4 21.41c.39.39.9.59 1.41.59.51 0 1.02-.2 1.41-.59l7.78-7.78 2.81-2.81c.8-.78.8-2.07 0-2.86zM5.41 20L4 18.59l7.72-7.72 1.47 1.35L5.41 20z\"/>\n",
              "  </svg>\n",
              "      </button>\n",
              "      \n",
              "  <style>\n",
              "    .colab-df-container {\n",
              "      display:flex;\n",
              "      flex-wrap:wrap;\n",
              "      gap: 12px;\n",
              "    }\n",
              "\n",
              "    .colab-df-convert {\n",
              "      background-color: #E8F0FE;\n",
              "      border: none;\n",
              "      border-radius: 50%;\n",
              "      cursor: pointer;\n",
              "      display: none;\n",
              "      fill: #1967D2;\n",
              "      height: 32px;\n",
              "      padding: 0 0 0 0;\n",
              "      width: 32px;\n",
              "    }\n",
              "\n",
              "    .colab-df-convert:hover {\n",
              "      background-color: #E2EBFA;\n",
              "      box-shadow: 0px 1px 2px rgba(60, 64, 67, 0.3), 0px 1px 3px 1px rgba(60, 64, 67, 0.15);\n",
              "      fill: #174EA6;\n",
              "    }\n",
              "\n",
              "    [theme=dark] .colab-df-convert {\n",
              "      background-color: #3B4455;\n",
              "      fill: #D2E3FC;\n",
              "    }\n",
              "\n",
              "    [theme=dark] .colab-df-convert:hover {\n",
              "      background-color: #434B5C;\n",
              "      box-shadow: 0px 1px 3px 1px rgba(0, 0, 0, 0.15);\n",
              "      filter: drop-shadow(0px 1px 2px rgba(0, 0, 0, 0.3));\n",
              "      fill: #FFFFFF;\n",
              "    }\n",
              "  </style>\n",
              "\n",
              "      <script>\n",
              "        const buttonEl =\n",
              "          document.querySelector('#df-cf99169b-047d-4afc-be20-73c0e688e071 button.colab-df-convert');\n",
              "        buttonEl.style.display =\n",
              "          google.colab.kernel.accessAllowed ? 'block' : 'none';\n",
              "\n",
              "        async function convertToInteractive(key) {\n",
              "          const element = document.querySelector('#df-cf99169b-047d-4afc-be20-73c0e688e071');\n",
              "          const dataTable =\n",
              "            await google.colab.kernel.invokeFunction('convertToInteractive',\n",
              "                                                     [key], {});\n",
              "          if (!dataTable) return;\n",
              "\n",
              "          const docLinkHtml = 'Like what you see? Visit the ' +\n",
              "            '<a target=\"_blank\" href=https://colab.research.google.com/notebooks/data_table.ipynb>data table notebook</a>'\n",
              "            + ' to learn more about interactive tables.';\n",
              "          element.innerHTML = '';\n",
              "          dataTable['output_type'] = 'display_data';\n",
              "          await google.colab.output.renderOutput(dataTable, element);\n",
              "          const docLink = document.createElement('div');\n",
              "          docLink.innerHTML = docLinkHtml;\n",
              "          element.appendChild(docLink);\n",
              "        }\n",
              "      </script>\n",
              "    </div>\n",
              "  </div>\n",
              "  "
            ]
          },
          "metadata": {},
          "execution_count": 137
        }
      ],
      "source": [
        "data"
      ]
    },
    {
      "cell_type": "code",
      "execution_count": null,
      "metadata": {
        "colab": {
          "base_uri": "https://localhost:8080/"
        },
        "id": "I2_cTO63fe2e",
        "outputId": "b59b50e4-e4e8-4f85-9005-a93efee21773"
      },
      "outputs": [
        {
          "output_type": "execute_result",
          "data": {
            "text/plain": [
              "{0: 165340, 1: 57215}"
            ]
          },
          "metadata": {},
          "execution_count": 138
        }
      ],
      "source": [
        "kmean = KMeans(n_clusters=2)\n",
        "X  = data['scores'].to_numpy().reshape(-1,1)\n",
        "kmean.fit(X)\n",
        "unique,count = np.unique(kmean.labels_,return_counts = True)\n",
        "dict(zip(unique,count))"
      ]
    },
    {
      "cell_type": "code",
      "execution_count": null,
      "metadata": {
        "colab": {
          "base_uri": "https://localhost:8080/"
        },
        "id": "1_mNnyg45SRr",
        "outputId": "0f881bad-a519-4f40-ed03-31ee36a4a47b"
      },
      "outputs": [
        {
          "output_type": "execute_result",
          "data": {
            "text/plain": [
              "0.6184509704791604"
            ]
          },
          "metadata": {},
          "execution_count": 139
        }
      ],
      "source": [
        "#Evaluation du modèle\n",
        "from sklearn import metrics\n",
        "labels = kmean.labels_\n",
        "metrics.silhouette_score(X, labels, metric='euclidean')"
      ]
    },
    {
      "cell_type": "code",
      "execution_count": null,
      "metadata": {
        "id": "ku3h-pUZoPMp"
      },
      "outputs": [],
      "source": [
        "import pickle\n",
        "models = [IForest, kmean]\n",
        "encoders = dict_encoder\n",
        "with open(\"encoders.pkl\",'wb') as ef:\n",
        "  pickle.dump(dict_encoder,ef)\n",
        "with open(\"classifers.pkl\",'wb') as cf :\n",
        "  pickle.dump(models, cf)"
      ]
    },
    {
      "cell_type": "code",
      "source": [
        "d"
      ],
      "metadata": {
        "colab": {
          "base_uri": "https://localhost:8080/"
        },
        "id": "5DfsR-E3EqV3",
        "outputId": "83e9df50-f2e3-4f6b-939a-05714c260908"
      },
      "execution_count": null,
      "outputs": [
        {
          "output_type": "execute_result",
          "data": {
            "text/plain": [
              "{'codeNetwork': LabelEncoder(),\n",
              " 'codePDA': LabelEncoder(),\n",
              " 'codeSalePoint': LabelEncoder(),\n",
              " 'codeService': LabelEncoder(),\n",
              " 'loginAgent': LabelEncoder(),\n",
              " 'type': LabelEncoder(),\n",
              " 'network_groupe_code': LabelEncoder(),\n",
              " 'spareOp4': LabelEncoder()}"
            ]
          },
          "metadata": {},
          "execution_count": 8
        }
      ]
    },
    {
      "cell_type": "code",
      "execution_count": null,
      "metadata": {
        "colab": {
          "base_uri": "https://localhost:8080/",
          "height": 206
        },
        "id": "b5yMZU6hslbx",
        "outputId": "bd76831a-5804-4135-96f8-77c1caa690e5"
      },
      "outputs": [
        {
          "output_type": "execute_result",
          "data": {
            "text/plain": [
              "   codeNetwork  codePDA  codeSalePoint  codeService  loginAgent   type  \\\n",
              "0        392.0  10667.0         5273.0         45.0     10671.0   96.0   \n",
              "1        344.0  11053.0         8476.0         45.0      8889.0   84.0   \n",
              "2        356.0   5838.0         8913.0         77.0      7513.0  129.0   \n",
              "3        302.0   1028.0         8038.0         46.0      2119.0   87.0   \n",
              "4        258.0   1100.0         5936.0         34.0      2590.0   69.0   \n",
              "\n",
              "   network_groupe_code  spareOp4  montant_total         heure       min  \\\n",
              "0                 12.0       0.0          100.0 -1.836970e-16  0.104528   \n",
              "1                 12.0       0.0       251000.0  2.588190e-01 -0.994522   \n",
              "2                 12.0       0.0         3000.0 -2.588190e-01 -0.104528   \n",
              "3                  6.0       0.0        10302.0 -7.071068e-01  0.978148   \n",
              "4                  6.0       0.0         5000.0  5.000000e-01 -0.866025   \n",
              "\n",
              "     scores  labels  \n",
              "0  0.024512       0  \n",
              "1  0.021729       0  \n",
              "2 -0.003977       1  \n",
              "3  0.077243       0  \n",
              "4  0.046839       0  "
            ],
            "text/html": [
              "\n",
              "  <div id=\"df-5a746ebd-c466-46e2-bf2b-5c9614ca5563\">\n",
              "    <div class=\"colab-df-container\">\n",
              "      <div>\n",
              "<style scoped>\n",
              "    .dataframe tbody tr th:only-of-type {\n",
              "        vertical-align: middle;\n",
              "    }\n",
              "\n",
              "    .dataframe tbody tr th {\n",
              "        vertical-align: top;\n",
              "    }\n",
              "\n",
              "    .dataframe thead th {\n",
              "        text-align: right;\n",
              "    }\n",
              "</style>\n",
              "<table border=\"1\" class=\"dataframe\">\n",
              "  <thead>\n",
              "    <tr style=\"text-align: right;\">\n",
              "      <th></th>\n",
              "      <th>codeNetwork</th>\n",
              "      <th>codePDA</th>\n",
              "      <th>codeSalePoint</th>\n",
              "      <th>codeService</th>\n",
              "      <th>loginAgent</th>\n",
              "      <th>type</th>\n",
              "      <th>network_groupe_code</th>\n",
              "      <th>spareOp4</th>\n",
              "      <th>montant_total</th>\n",
              "      <th>heure</th>\n",
              "      <th>min</th>\n",
              "      <th>scores</th>\n",
              "      <th>labels</th>\n",
              "    </tr>\n",
              "  </thead>\n",
              "  <tbody>\n",
              "    <tr>\n",
              "      <th>0</th>\n",
              "      <td>392.0</td>\n",
              "      <td>10667.0</td>\n",
              "      <td>5273.0</td>\n",
              "      <td>45.0</td>\n",
              "      <td>10671.0</td>\n",
              "      <td>96.0</td>\n",
              "      <td>12.0</td>\n",
              "      <td>0.0</td>\n",
              "      <td>100.0</td>\n",
              "      <td>-1.836970e-16</td>\n",
              "      <td>0.104528</td>\n",
              "      <td>0.024512</td>\n",
              "      <td>0</td>\n",
              "    </tr>\n",
              "    <tr>\n",
              "      <th>1</th>\n",
              "      <td>344.0</td>\n",
              "      <td>11053.0</td>\n",
              "      <td>8476.0</td>\n",
              "      <td>45.0</td>\n",
              "      <td>8889.0</td>\n",
              "      <td>84.0</td>\n",
              "      <td>12.0</td>\n",
              "      <td>0.0</td>\n",
              "      <td>251000.0</td>\n",
              "      <td>2.588190e-01</td>\n",
              "      <td>-0.994522</td>\n",
              "      <td>0.021729</td>\n",
              "      <td>0</td>\n",
              "    </tr>\n",
              "    <tr>\n",
              "      <th>2</th>\n",
              "      <td>356.0</td>\n",
              "      <td>5838.0</td>\n",
              "      <td>8913.0</td>\n",
              "      <td>77.0</td>\n",
              "      <td>7513.0</td>\n",
              "      <td>129.0</td>\n",
              "      <td>12.0</td>\n",
              "      <td>0.0</td>\n",
              "      <td>3000.0</td>\n",
              "      <td>-2.588190e-01</td>\n",
              "      <td>-0.104528</td>\n",
              "      <td>-0.003977</td>\n",
              "      <td>1</td>\n",
              "    </tr>\n",
              "    <tr>\n",
              "      <th>3</th>\n",
              "      <td>302.0</td>\n",
              "      <td>1028.0</td>\n",
              "      <td>8038.0</td>\n",
              "      <td>46.0</td>\n",
              "      <td>2119.0</td>\n",
              "      <td>87.0</td>\n",
              "      <td>6.0</td>\n",
              "      <td>0.0</td>\n",
              "      <td>10302.0</td>\n",
              "      <td>-7.071068e-01</td>\n",
              "      <td>0.978148</td>\n",
              "      <td>0.077243</td>\n",
              "      <td>0</td>\n",
              "    </tr>\n",
              "    <tr>\n",
              "      <th>4</th>\n",
              "      <td>258.0</td>\n",
              "      <td>1100.0</td>\n",
              "      <td>5936.0</td>\n",
              "      <td>34.0</td>\n",
              "      <td>2590.0</td>\n",
              "      <td>69.0</td>\n",
              "      <td>6.0</td>\n",
              "      <td>0.0</td>\n",
              "      <td>5000.0</td>\n",
              "      <td>5.000000e-01</td>\n",
              "      <td>-0.866025</td>\n",
              "      <td>0.046839</td>\n",
              "      <td>0</td>\n",
              "    </tr>\n",
              "  </tbody>\n",
              "</table>\n",
              "</div>\n",
              "      <button class=\"colab-df-convert\" onclick=\"convertToInteractive('df-5a746ebd-c466-46e2-bf2b-5c9614ca5563')\"\n",
              "              title=\"Convert this dataframe to an interactive table.\"\n",
              "              style=\"display:none;\">\n",
              "        \n",
              "  <svg xmlns=\"http://www.w3.org/2000/svg\" height=\"24px\"viewBox=\"0 0 24 24\"\n",
              "       width=\"24px\">\n",
              "    <path d=\"M0 0h24v24H0V0z\" fill=\"none\"/>\n",
              "    <path d=\"M18.56 5.44l.94 2.06.94-2.06 2.06-.94-2.06-.94-.94-2.06-.94 2.06-2.06.94zm-11 1L8.5 8.5l.94-2.06 2.06-.94-2.06-.94L8.5 2.5l-.94 2.06-2.06.94zm10 10l.94 2.06.94-2.06 2.06-.94-2.06-.94-.94-2.06-.94 2.06-2.06.94z\"/><path d=\"M17.41 7.96l-1.37-1.37c-.4-.4-.92-.59-1.43-.59-.52 0-1.04.2-1.43.59L10.3 9.45l-7.72 7.72c-.78.78-.78 2.05 0 2.83L4 21.41c.39.39.9.59 1.41.59.51 0 1.02-.2 1.41-.59l7.78-7.78 2.81-2.81c.8-.78.8-2.07 0-2.86zM5.41 20L4 18.59l7.72-7.72 1.47 1.35L5.41 20z\"/>\n",
              "  </svg>\n",
              "      </button>\n",
              "      \n",
              "  <style>\n",
              "    .colab-df-container {\n",
              "      display:flex;\n",
              "      flex-wrap:wrap;\n",
              "      gap: 12px;\n",
              "    }\n",
              "\n",
              "    .colab-df-convert {\n",
              "      background-color: #E8F0FE;\n",
              "      border: none;\n",
              "      border-radius: 50%;\n",
              "      cursor: pointer;\n",
              "      display: none;\n",
              "      fill: #1967D2;\n",
              "      height: 32px;\n",
              "      padding: 0 0 0 0;\n",
              "      width: 32px;\n",
              "    }\n",
              "\n",
              "    .colab-df-convert:hover {\n",
              "      background-color: #E2EBFA;\n",
              "      box-shadow: 0px 1px 2px rgba(60, 64, 67, 0.3), 0px 1px 3px 1px rgba(60, 64, 67, 0.15);\n",
              "      fill: #174EA6;\n",
              "    }\n",
              "\n",
              "    [theme=dark] .colab-df-convert {\n",
              "      background-color: #3B4455;\n",
              "      fill: #D2E3FC;\n",
              "    }\n",
              "\n",
              "    [theme=dark] .colab-df-convert:hover {\n",
              "      background-color: #434B5C;\n",
              "      box-shadow: 0px 1px 3px 1px rgba(0, 0, 0, 0.15);\n",
              "      filter: drop-shadow(0px 1px 2px rgba(0, 0, 0, 0.3));\n",
              "      fill: #FFFFFF;\n",
              "    }\n",
              "  </style>\n",
              "\n",
              "      <script>\n",
              "        const buttonEl =\n",
              "          document.querySelector('#df-5a746ebd-c466-46e2-bf2b-5c9614ca5563 button.colab-df-convert');\n",
              "        buttonEl.style.display =\n",
              "          google.colab.kernel.accessAllowed ? 'block' : 'none';\n",
              "\n",
              "        async function convertToInteractive(key) {\n",
              "          const element = document.querySelector('#df-5a746ebd-c466-46e2-bf2b-5c9614ca5563');\n",
              "          const dataTable =\n",
              "            await google.colab.kernel.invokeFunction('convertToInteractive',\n",
              "                                                     [key], {});\n",
              "          if (!dataTable) return;\n",
              "\n",
              "          const docLinkHtml = 'Like what you see? Visit the ' +\n",
              "            '<a target=\"_blank\" href=https://colab.research.google.com/notebooks/data_table.ipynb>data table notebook</a>'\n",
              "            + ' to learn more about interactive tables.';\n",
              "          element.innerHTML = '';\n",
              "          dataTable['output_type'] = 'display_data';\n",
              "          await google.colab.output.renderOutput(dataTable, element);\n",
              "          const docLink = document.createElement('div');\n",
              "          docLink.innerHTML = docLinkHtml;\n",
              "          element.appendChild(docLink);\n",
              "        }\n",
              "      </script>\n",
              "    </div>\n",
              "  </div>\n",
              "  "
            ]
          },
          "metadata": {},
          "execution_count": 142
        }
      ],
      "source": [
        "data['labels'] = kmean.labels_\n",
        "data.head()"
      ]
    },
    {
      "cell_type": "code",
      "execution_count": null,
      "metadata": {
        "colab": {
          "base_uri": "https://localhost:8080/",
          "height": 282
        },
        "id": "ehpJ18cCx0ky",
        "outputId": "f647ed0c-1213-4223-92e4-b9ec2735382f"
      },
      "outputs": [
        {
          "output_type": "execute_result",
          "data": {
            "text/plain": [
              "<matplotlib.axes._subplots.AxesSubplot at 0x7f99479c5a90>"
            ]
          },
          "metadata": {},
          "execution_count": 143
        },
        {
          "output_type": "display_data",
          "data": {
            "text/plain": [
              "<Figure size 432x288 with 1 Axes>"
            ],
            "image/png": "[encoded data removed]"
          },
          "metadata": {
            "needs_background": "light"
          }
        }
      ],
      "source": [
        "#Visualisation des clusters\n",
        "import matplotlib.pyplot as plt\n",
        "import seaborn as sns\n",
        "sns.scatterplot(x=data.index,y=data['scores'],hue=data['labels'])"
      ]
    },
    {
      "cell_type": "code",
      "execution_count": null,
      "metadata": {
        "colab": {
          "base_uri": "https://localhost:8080/"
        },
        "id": "E6cKoE-t6NgE",
        "outputId": "23b86b4d-c272-4c34-d541-7c9414ed0b64"
      },
      "outputs": [
        {
          "output_type": "execute_result",
          "data": {
            "text/plain": [
              "(222555, 2)"
            ]
          },
          "metadata": {},
          "execution_count": 144
        }
      ],
      "source": [
        "from sklearn.preprocessing import StandardScaler\n",
        "from sklearn.decomposition import PCA\n",
        "x = data.iloc[:,:-1]\n",
        "x = StandardScaler().fit_transform(x)\n",
        "pca = PCA(n_components=2)\n",
        "df = pd.DataFrame(pca.fit_transform(x))\n",
        "df.shape"
      ]
    },
    {
      "cell_type": "code",
      "execution_count": null,
      "metadata": {
        "id": "rDg5WvBy62iD"
      },
      "outputs": [],
      "source": [
        "finalDf = pd.concat([df, data[['labels']]], axis = 1)"
      ]
    },
    {
      "cell_type": "code",
      "execution_count": null,
      "metadata": {
        "colab": {
          "base_uri": "https://localhost:8080/",
          "height": 265
        },
        "id": "zLKTCKUxCDhk",
        "outputId": "737b013c-696c-4242-9cdd-e5ff96a58d96"
      },
      "outputs": [
        {
          "output_type": "display_data",
          "data": {
            "text/plain": [
              "<Figure size 432x288 with 1 Axes>"
            ],
            "image/png": "[encoded data removed]"
          },
          "metadata": {
            "needs_background": "light"
          }
        }
      ],
      "source": [
        "#filter rows of original data\n",
        "x_r = finalDf[finalDf['labels' ]== 0]\n",
        "\n",
        "y_r = finalDf[finalDf['labels'] == 1]\n",
        "\n",
        "#Plotting the results\n",
        "plt.scatter(y_r.iloc[:1000,0] , y_r.iloc[:1000,1] , color = 'red')\n",
        "plt.scatter(x_r.iloc[:1000,0] , x_r.iloc[:1000,1] , color = 'green')\n",
        "plt.show()"
      ]
    },
    {
      "cell_type": "code",
      "execution_count": null,
      "metadata": {
        "colab": {
          "base_uri": "https://localhost:8080/"
        },
        "id": "Q3yXuy93KI82",
        "outputId": "6ed95c6b-b3c2-434a-f585-0765f1d38163"
      },
      "outputs": [
        {
          "output_type": "execute_result",
          "data": {
            "text/plain": [
              "(222555, 3)"
            ]
          },
          "metadata": {},
          "execution_count": 147
        }
      ],
      "source": [
        "#Représentation 3D des clusters\n",
        "x_3d = data.iloc[:,:-1]\n",
        "x_3d = StandardScaler().fit_transform(x_3d)\n",
        "pca1 = PCA(n_components=3)\n",
        "df_3d = pd.DataFrame(pca1.fit_transform(x_3d))\n",
        "df_3d.shape"
      ]
    },
    {
      "cell_type": "code",
      "execution_count": null,
      "metadata": {
        "id": "e5kytesQTFfY"
      },
      "outputs": [],
      "source": [
        "finalDf_3d = pd.concat([df_3d, data[['labels']]], axis = 1)"
      ]
    },
    {
      "cell_type": "code",
      "execution_count": null,
      "metadata": {
        "id": "NAZg_QmTa8r-"
      },
      "outputs": [],
      "source": [
        "point_max = data[data['scores']==data.scores.max()].index\n",
        "point_min = data[data['scores']==data.scores.min()].index"
      ]
    },
    {
      "cell_type": "code",
      "execution_count": null,
      "metadata": {
        "colab": {
          "base_uri": "https://localhost:8080/",
          "height": 621
        },
        "id": "XNUx-HoaTPZh",
        "outputId": "b5bb1561-cea8-417d-a70d-98cb059cc348"
      },
      "outputs": [
        {
          "output_type": "display_data",
          "data": {
            "text/plain": [
              "<Figure size 432x288 with 1 Axes>"
            ],
            "image/png": "[encoded data removed]"
          },
          "metadata": {
            "needs_background": "light"
          }
        },
        {
          "output_type": "display_data",
          "data": {
            "text/plain": [
              "<Figure size 432x288 with 1 Axes>"
            ],
            "image/png": "[encoded data removed]"
          },
          "metadata": {
            "needs_background": "light"
          }
        }
      ],
      "source": [
        "#filter rows of original data\n",
        "from mpl_toolkits.mplot3d import Axes3D\n",
        "\n",
        "x_3dr = finalDf_3d[finalDf_3d['labels' ]== 0]\n",
        "y_3dr = finalDf_3d[finalDf_3d['labels'] == 1]\n",
        "#First orientation\n",
        "fig1=plt.figure(1)\n",
        "ax=Axes3D(fig1)\n",
        "#Plotting the results\n",
        "ax.scatter(y_3dr.iloc[:1000,0], y_3dr.iloc[:1000,1], y_3dr.iloc[:1000,2], c = 'orange')\n",
        "ax.scatter(x_3dr.iloc[:1000,0], x_3dr.iloc[:1000,1], x_3dr.iloc[:1000,2], color = 'green')\n",
        "#Projeter min\n",
        "min = finalDf_3d.iloc[point_min].iloc[:, :-1].values\n",
        "a,b,c = min[0]\n",
        "ax.scatter(a, b, c, color = 'red')\n",
        "\n",
        "#Second orientation\n",
        "fig2=plt.figure(2)\n",
        "ax=Axes3D(fig2)\n",
        "#Plotting the results\n",
        "ax.scatter(y_3dr.iloc[:1000,0], y_3dr.iloc[:1000,1], y_3dr.iloc[:1000,2], color = 'orange')\n",
        "ax.scatter(x_3dr.iloc[:1000,0], x_3dr.iloc[:1000,1], x_3dr.iloc[:1000,2], color = 'green')\n",
        "ax.view_init(-120, 30)\n",
        "plt.show()"
      ]
    },
    {
      "cell_type": "code",
      "execution_count": null,
      "metadata": {
        "colab": {
          "base_uri": "https://localhost:8080/"
        },
        "id": "2-f-QO1GUR81",
        "outputId": "21e4b157-6ec1-494d-c8b5-e212d39ac9cc"
      },
      "outputs": [
        {
          "output_type": "stream",
          "name": "stdout",
          "text": [
            "score min:-0.20930812167487012  \n",
            " score max : 0.10527277169585603\n"
          ]
        }
      ],
      "source": [
        "print('score min:%s  \\n score max : %s'%(data['scores'].min(),data['scores'].max()))"
      ]
    },
    {
      "cell_type": "code",
      "execution_count": null,
      "metadata": {
        "colab": {
          "base_uri": "https://localhost:8080/",
          "height": 81
        },
        "id": "2XK3Hw95w9In",
        "outputId": "ec2ab895-0fc6-4962-fc2f-f757e5aeee64"
      },
      "outputs": [
        {
          "output_type": "execute_result",
          "data": {
            "text/plain": [
              "        codeNetwork  codePDA  codeSalePoint  codeService  loginAgent   type  \\\n",
              "221198         18.0      2.0           45.0        200.0      5991.0  134.0   \n",
              "\n",
              "        network_groupe_code  spareOp4  montant_total     heure       min  \\\n",
              "221198                  3.0       0.0     30000000.0  0.965926  0.994522   \n",
              "\n",
              "          scores  labels  \n",
              "221198 -0.209308       1  "
            ],
            "text/html": [
              "\n",
              "  <div id=\"df-c829ecca-fa98-4b92-909f-36139daa7a5c\">\n",
              "    <div class=\"colab-df-container\">\n",
              "      <div>\n",
              "<style scoped>\n",
              "    .dataframe tbody tr th:only-of-type {\n",
              "        vertical-align: middle;\n",
              "    }\n",
              "\n",
              "    .dataframe tbody tr th {\n",
              "        vertical-align: top;\n",
              "    }\n",
              "\n",
              "    .dataframe thead th {\n",
              "        text-align: right;\n",
              "    }\n",
              "</style>\n",
              "<table border=\"1\" class=\"dataframe\">\n",
              "  <thead>\n",
              "    <tr style=\"text-align: right;\">\n",
              "      <th></th>\n",
              "      <th>codeNetwork</th>\n",
              "      <th>codePDA</th>\n",
              "      <th>codeSalePoint</th>\n",
              "      <th>codeService</th>\n",
              "      <th>loginAgent</th>\n",
              "      <th>type</th>\n",
              "      <th>network_groupe_code</th>\n",
              "      <th>spareOp4</th>\n",
              "      <th>montant_total</th>\n",
              "      <th>heure</th>\n",
              "      <th>min</th>\n",
              "      <th>scores</th>\n",
              "      <th>labels</th>\n",
              "    </tr>\n",
              "  </thead>\n",
              "  <tbody>\n",
              "    <tr>\n",
              "      <th>221198</th>\n",
              "      <td>18.0</td>\n",
              "      <td>2.0</td>\n",
              "      <td>45.0</td>\n",
              "      <td>200.0</td>\n",
              "      <td>5991.0</td>\n",
              "      <td>134.0</td>\n",
              "      <td>3.0</td>\n",
              "      <td>0.0</td>\n",
              "      <td>30000000.0</td>\n",
              "      <td>0.965926</td>\n",
              "      <td>0.994522</td>\n",
              "      <td>-0.209308</td>\n",
              "      <td>1</td>\n",
              "    </tr>\n",
              "  </tbody>\n",
              "</table>\n",
              "</div>\n",
              "      <button class=\"colab-df-convert\" onclick=\"convertToInteractive('df-c829ecca-fa98-4b92-909f-36139daa7a5c')\"\n",
              "              title=\"Convert this dataframe to an interactive table.\"\n",
              "              style=\"display:none;\">\n",
              "        \n",
              "  <svg xmlns=\"http://www.w3.org/2000/svg\" height=\"24px\"viewBox=\"0 0 24 24\"\n",
              "       width=\"24px\">\n",
              "    <path d=\"M0 0h24v24H0V0z\" fill=\"none\"/>\n",
              "    <path d=\"M18.56 5.44l.94 2.06.94-2.06 2.06-.94-2.06-.94-.94-2.06-.94 2.06-2.06.94zm-11 1L8.5 8.5l.94-2.06 2.06-.94-2.06-.94L8.5 2.5l-.94 2.06-2.06.94zm10 10l.94 2.06.94-2.06 2.06-.94-2.06-.94-.94-2.06-.94 2.06-2.06.94z\"/><path d=\"M17.41 7.96l-1.37-1.37c-.4-.4-.92-.59-1.43-.59-.52 0-1.04.2-1.43.59L10.3 9.45l-7.72 7.72c-.78.78-.78 2.05 0 2.83L4 21.41c.39.39.9.59 1.41.59.51 0 1.02-.2 1.41-.59l7.78-7.78 2.81-2.81c.8-.78.8-2.07 0-2.86zM5.41 20L4 18.59l7.72-7.72 1.47 1.35L5.41 20z\"/>\n",
              "  </svg>\n",
              "      </button>\n",
              "      \n",
              "  <style>\n",
              "    .colab-df-container {\n",
              "      display:flex;\n",
              "      flex-wrap:wrap;\n",
              "      gap: 12px;\n",
              "    }\n",
              "\n",
              "    .colab-df-convert {\n",
              "      background-color: #E8F0FE;\n",
              "      border: none;\n",
              "      border-radius: 50%;\n",
              "      cursor: pointer;\n",
              "      display: none;\n",
              "      fill: #1967D2;\n",
              "      height: 32px;\n",
              "      padding: 0 0 0 0;\n",
              "      width: 32px;\n",
              "    }\n",
              "\n",
              "    .colab-df-convert:hover {\n",
              "      background-color: #E2EBFA;\n",
              "      box-shadow: 0px 1px 2px rgba(60, 64, 67, 0.3), 0px 1px 3px 1px rgba(60, 64, 67, 0.15);\n",
              "      fill: #174EA6;\n",
              "    }\n",
              "\n",
              "    [theme=dark] .colab-df-convert {\n",
              "      background-color: #3B4455;\n",
              "      fill: #D2E3FC;\n",
              "    }\n",
              "\n",
              "    [theme=dark] .colab-df-convert:hover {\n",
              "      background-color: #434B5C;\n",
              "      box-shadow: 0px 1px 3px 1px rgba(0, 0, 0, 0.15);\n",
              "      filter: drop-shadow(0px 1px 2px rgba(0, 0, 0, 0.3));\n",
              "      fill: #FFFFFF;\n",
              "    }\n",
              "  </style>\n",
              "\n",
              "      <script>\n",
              "        const buttonEl =\n",
              "          document.querySelector('#df-c829ecca-fa98-4b92-909f-36139daa7a5c button.colab-df-convert');\n",
              "        buttonEl.style.display =\n",
              "          google.colab.kernel.accessAllowed ? 'block' : 'none';\n",
              "\n",
              "        async function convertToInteractive(key) {\n",
              "          const element = document.querySelector('#df-c829ecca-fa98-4b92-909f-36139daa7a5c');\n",
              "          const dataTable =\n",
              "            await google.colab.kernel.invokeFunction('convertToInteractive',\n",
              "                                                     [key], {});\n",
              "          if (!dataTable) return;\n",
              "\n",
              "          const docLinkHtml = 'Like what you see? Visit the ' +\n",
              "            '<a target=\"_blank\" href=https://colab.research.google.com/notebooks/data_table.ipynb>data table notebook</a>'\n",
              "            + ' to learn more about interactive tables.';\n",
              "          element.innerHTML = '';\n",
              "          dataTable['output_type'] = 'display_data';\n",
              "          await google.colab.output.renderOutput(dataTable, element);\n",
              "          const docLink = document.createElement('div');\n",
              "          docLink.innerHTML = docLinkHtml;\n",
              "          element.appendChild(docLink);\n",
              "        }\n",
              "      </script>\n",
              "    </div>\n",
              "  </div>\n",
              "  "
            ]
          },
          "metadata": {},
          "execution_count": 152
        }
      ],
      "source": [
        "data.iloc[point_min]"
      ]
    },
    {
      "cell_type": "markdown",
      "metadata": {
        "id": "6Uu-wmdEY1IC"
      },
      "source": [
        "Nous constatons que le score  se trouve dans un intervalle reduit ce qui montre que l'anomalie sur ces données n'est pas si élevée."
      ]
    },
    {
      "cell_type": "code",
      "source": [],
      "metadata": {
        "id": "MB2DigWZGdkz"
      },
      "execution_count": null,
      "outputs": []
    }
  ],
  "metadata": {
    "accelerator": "TPU",
    "colab": {
      "provenance": [],
      "toc_visible": true
    },
    "kernelspec": {
      "display_name": "Python 3",
      "name": "python3"
    },
    "language_info": {
      "name": "python"
    }
  },
  "nbformat": 4,
  "nbformat_minor": 0
}